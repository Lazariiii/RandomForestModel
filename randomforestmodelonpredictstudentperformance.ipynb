{
 "cells": [
  {
   "cell_type": "markdown",
   "id": "a47be524",
   "metadata": {
    "papermill": {
     "duration": 0.012355,
     "end_time": "2023-06-23T13:31:23.265433",
     "exception": false,
     "start_time": "2023-06-23T13:31:23.253078",
     "status": "completed"
    },
    "tags": []
   },
   "source": [
    "# Mengimport Library"
   ]
  },
  {
   "cell_type": "code",
   "execution_count": 1,
   "id": "78fcc74f",
   "metadata": {
    "_cell_guid": "b1076dfc-b9ad-4769-8c92-a6c4dae69d19",
    "_uuid": "8f2839f25d086af736a60e9eeb907d3b93b6e0e5",
    "execution": {
     "iopub.execute_input": "2023-06-23T13:31:23.287490Z",
     "iopub.status.busy": "2023-06-23T13:31:23.286801Z",
     "iopub.status.idle": "2023-06-23T13:31:36.390845Z",
     "shell.execute_reply": "2023-06-23T13:31:36.389664Z"
    },
    "papermill": {
     "duration": 13.118528,
     "end_time": "2023-06-23T13:31:36.394022",
     "exception": false,
     "start_time": "2023-06-23T13:31:23.275494",
     "status": "completed"
    },
    "tags": []
   },
   "outputs": [
    {
     "name": "stderr",
     "output_type": "stream",
     "text": [
      "/opt/conda/lib/python3.10/site-packages/tensorflow_io/python/ops/__init__.py:98: UserWarning: unable to load libtensorflow_io_plugins.so: unable to open file: libtensorflow_io_plugins.so, from paths: ['/opt/conda/lib/python3.10/site-packages/tensorflow_io/python/ops/libtensorflow_io_plugins.so']\n",
      "caused by: ['/opt/conda/lib/python3.10/site-packages/tensorflow_io/python/ops/libtensorflow_io_plugins.so: undefined symbol: _ZN3tsl6StatusC1EN10tensorflow5error4CodeESt17basic_string_viewIcSt11char_traitsIcEENS_14SourceLocationE']\n",
      "  warnings.warn(f\"unable to load libtensorflow_io_plugins.so: {e}\")\n",
      "/opt/conda/lib/python3.10/site-packages/tensorflow_io/python/ops/__init__.py:104: UserWarning: file system plugins are not loaded: unable to open file: libtensorflow_io.so, from paths: ['/opt/conda/lib/python3.10/site-packages/tensorflow_io/python/ops/libtensorflow_io.so']\n",
      "caused by: ['/opt/conda/lib/python3.10/site-packages/tensorflow_io/python/ops/libtensorflow_io.so: undefined symbol: _ZTVN10tensorflow13GcsFileSystemE']\n",
      "  warnings.warn(f\"file system plugins are not loaded: {e}\")\n",
      "/opt/conda/lib/python3.10/site-packages/tensorflow_addons/utils/tfa_eol_msg.py:23: UserWarning: \n",
      "\n",
      "TensorFlow Addons (TFA) has ended development and introduction of new features.\n",
      "TFA has entered a minimal maintenance and release mode until a planned end of life in May 2024.\n",
      "Please modify downstream libraries to take dependencies from other repositories in our TensorFlow community (e.g. Keras, Keras-CV, and Keras-NLP). \n",
      "\n",
      "For more information see: https://github.com/tensorflow/addons/issues/2807 \n",
      "\n",
      "  warnings.warn(\n"
     ]
    }
   ],
   "source": [
    "import tensorflow as tf\n",
    "import tensorflow_addons as tfa\n",
    "import tensorflow_decision_forests as tfdf\n",
    "\n",
    "import pandas as pd\n",
    "import numpy as np\n",
    "import matplotlib.pyplot as plt"
   ]
  },
  {
   "cell_type": "markdown",
   "id": "6dba3cc1",
   "metadata": {
    "papermill": {
     "duration": 0.009798,
     "end_time": "2023-06-23T13:31:36.414241",
     "exception": false,
     "start_time": "2023-06-23T13:31:36.404443",
     "status": "completed"
    },
    "tags": []
   },
   "source": [
    "# Memuat Dataset"
   ]
  },
  {
   "cell_type": "markdown",
   "id": "77183f1c",
   "metadata": {
    "papermill": {
     "duration": 0.009926,
     "end_time": "2023-06-23T13:31:36.434852",
     "exception": false,
     "start_time": "2023-06-23T13:31:36.424926",
     "status": "completed"
    },
    "tags": []
   },
   "source": [
    "Dalam rangka mengoptimalkan penggunaan memori saat membaca dataset dari file CSV menggunakan Pandas, terdapat beberapa strategi yang dapat dilakukan. Salah satunya adalah dengan melakukan pengurangan ukuran tipe data yang digunakan oleh kolom-kolom numerik.\n",
    "\n",
    "Secara default, Pandas akan secara otomatis mendeteksi tipe data kolom saat memuat dataset. Misalnya, kolom numerik akan diassign sebagai int64, kolom float akan diassign sebagai float64, dan kolom string akan diassign sebagai objek (object dtype).\n",
    "\n",
    "1. Membuat dictionary dtypes yang mendefinisikan tipe data kolom-kolom dataset. Setiap kolom diberikan tipe data yang sesuai menggunakan tipe data dari NumPy (seperti np.int32, np.uint8, np.float32) dan kategori (category) untuk kolom-kolom yang berisi label atau kategori.Membuat dictionary dtypes yang mendefinisikan tipe data kolom-kolom dataset. Setiap kolom diberikan tipe data yang sesuai menggunakan tipe data dari NumPy (seperti np.int32, np.uint8, np.float32) dan kategori (category) untuk kolom-kolom yang berisi label atau kategori.\n",
    "2. Menggunakan metode shape pada DataFrame untuk mencetak bentuk (shape) dataset yang telah dibaca. Hasilnya akan dicetak dalam format string dengan menggunakan fungsi format().Menggunakan metode shape pada DataFrame untuk mencetak bentuk (shape) dataset yang telah dibaca. Hasilnya akan dicetak dalam format string dengan menggunakan fungsi format().  "
   ]
  },
  {
   "cell_type": "code",
   "execution_count": 2,
   "id": "ce4e848f",
   "metadata": {
    "execution": {
     "iopub.execute_input": "2023-06-23T13:31:36.458594Z",
     "iopub.status.busy": "2023-06-23T13:31:36.457505Z",
     "iopub.status.idle": "2023-06-23T13:33:49.623710Z",
     "shell.execute_reply": "2023-06-23T13:33:49.622774Z"
    },
    "papermill": {
     "duration": 133.189736,
     "end_time": "2023-06-23T13:33:49.635234",
     "exception": false,
     "start_time": "2023-06-23T13:31:36.445498",
     "status": "completed"
    },
    "tags": []
   },
   "outputs": [
    {
     "name": "stdout",
     "output_type": "stream",
     "text": [
      "Full train dataset shape is (26296946, 20)\n"
     ]
    }
   ],
   "source": [
    "# Reference: https://www.kaggle.com/competitions/predict-student-performance-from-game-play/discussion/384359\n",
    "dtypes={\n",
    "    'elapsed_time':np.int32,\n",
    "    'event_name':'category',\n",
    "    'name':'category',\n",
    "    'level':np.uint8,\n",
    "    'room_coor_x':np.float32,\n",
    "    'room_coor_y':np.float32,\n",
    "    'screen_coor_x':np.float32,\n",
    "    'screen_coor_y':np.float32,\n",
    "    'hover_duration':np.float32,\n",
    "    'text':'category',\n",
    "    'fqid':'category',\n",
    "    'room_fqid':'category',\n",
    "    'text_fqid':'category',\n",
    "    'fullscreen':'category',\n",
    "    'hq':'category',\n",
    "    'music':'category',\n",
    "    'level_group':'category'}\n",
    "\n",
    "dataset_df = pd.read_csv('/kaggle/input/predict-student-performance-from-game-play/train.csv', dtype=dtypes)\n",
    "print(\"Full train dataset shape is {}\".format(dataset_df.shape))"
   ]
  },
  {
   "cell_type": "code",
   "execution_count": 3,
   "id": "5445c18a",
   "metadata": {
    "execution": {
     "iopub.execute_input": "2023-06-23T13:33:49.658123Z",
     "iopub.status.busy": "2023-06-23T13:33:49.657464Z",
     "iopub.status.idle": "2023-06-23T13:33:49.703351Z",
     "shell.execute_reply": "2023-06-23T13:33:49.702475Z"
    },
    "papermill": {
     "duration": 0.060207,
     "end_time": "2023-06-23T13:33:49.705658",
     "exception": false,
     "start_time": "2023-06-23T13:33:49.645451",
     "status": "completed"
    },
    "tags": []
   },
   "outputs": [
    {
     "data": {
      "text/html": [
       "<div>\n",
       "<style scoped>\n",
       "    .dataframe tbody tr th:only-of-type {\n",
       "        vertical-align: middle;\n",
       "    }\n",
       "\n",
       "    .dataframe tbody tr th {\n",
       "        vertical-align: top;\n",
       "    }\n",
       "\n",
       "    .dataframe thead th {\n",
       "        text-align: right;\n",
       "    }\n",
       "</style>\n",
       "<table border=\"1\" class=\"dataframe\">\n",
       "  <thead>\n",
       "    <tr style=\"text-align: right;\">\n",
       "      <th></th>\n",
       "      <th>session_id</th>\n",
       "      <th>index</th>\n",
       "      <th>elapsed_time</th>\n",
       "      <th>event_name</th>\n",
       "      <th>name</th>\n",
       "      <th>level</th>\n",
       "      <th>page</th>\n",
       "      <th>room_coor_x</th>\n",
       "      <th>room_coor_y</th>\n",
       "      <th>screen_coor_x</th>\n",
       "      <th>screen_coor_y</th>\n",
       "      <th>hover_duration</th>\n",
       "      <th>text</th>\n",
       "      <th>fqid</th>\n",
       "      <th>room_fqid</th>\n",
       "      <th>text_fqid</th>\n",
       "      <th>fullscreen</th>\n",
       "      <th>hq</th>\n",
       "      <th>music</th>\n",
       "      <th>level_group</th>\n",
       "    </tr>\n",
       "  </thead>\n",
       "  <tbody>\n",
       "    <tr>\n",
       "      <th>0</th>\n",
       "      <td>20090312431273200</td>\n",
       "      <td>0</td>\n",
       "      <td>0</td>\n",
       "      <td>cutscene_click</td>\n",
       "      <td>basic</td>\n",
       "      <td>0</td>\n",
       "      <td>NaN</td>\n",
       "      <td>-413.991394</td>\n",
       "      <td>-159.314682</td>\n",
       "      <td>380.0</td>\n",
       "      <td>494.0</td>\n",
       "      <td>NaN</td>\n",
       "      <td>undefined</td>\n",
       "      <td>intro</td>\n",
       "      <td>tunic.historicalsociety.closet</td>\n",
       "      <td>tunic.historicalsociety.closet.intro</td>\n",
       "      <td>0</td>\n",
       "      <td>0</td>\n",
       "      <td>1</td>\n",
       "      <td>0-4</td>\n",
       "    </tr>\n",
       "    <tr>\n",
       "      <th>1</th>\n",
       "      <td>20090312431273200</td>\n",
       "      <td>1</td>\n",
       "      <td>1323</td>\n",
       "      <td>person_click</td>\n",
       "      <td>basic</td>\n",
       "      <td>0</td>\n",
       "      <td>NaN</td>\n",
       "      <td>-413.991394</td>\n",
       "      <td>-159.314682</td>\n",
       "      <td>380.0</td>\n",
       "      <td>494.0</td>\n",
       "      <td>NaN</td>\n",
       "      <td>Whatcha doing over there, Jo?</td>\n",
       "      <td>gramps</td>\n",
       "      <td>tunic.historicalsociety.closet</td>\n",
       "      <td>tunic.historicalsociety.closet.gramps.intro_0_...</td>\n",
       "      <td>0</td>\n",
       "      <td>0</td>\n",
       "      <td>1</td>\n",
       "      <td>0-4</td>\n",
       "    </tr>\n",
       "    <tr>\n",
       "      <th>2</th>\n",
       "      <td>20090312431273200</td>\n",
       "      <td>2</td>\n",
       "      <td>831</td>\n",
       "      <td>person_click</td>\n",
       "      <td>basic</td>\n",
       "      <td>0</td>\n",
       "      <td>NaN</td>\n",
       "      <td>-413.991394</td>\n",
       "      <td>-159.314682</td>\n",
       "      <td>380.0</td>\n",
       "      <td>494.0</td>\n",
       "      <td>NaN</td>\n",
       "      <td>Just talking to Teddy.</td>\n",
       "      <td>gramps</td>\n",
       "      <td>tunic.historicalsociety.closet</td>\n",
       "      <td>tunic.historicalsociety.closet.gramps.intro_0_...</td>\n",
       "      <td>0</td>\n",
       "      <td>0</td>\n",
       "      <td>1</td>\n",
       "      <td>0-4</td>\n",
       "    </tr>\n",
       "    <tr>\n",
       "      <th>3</th>\n",
       "      <td>20090312431273200</td>\n",
       "      <td>3</td>\n",
       "      <td>1147</td>\n",
       "      <td>person_click</td>\n",
       "      <td>basic</td>\n",
       "      <td>0</td>\n",
       "      <td>NaN</td>\n",
       "      <td>-413.991394</td>\n",
       "      <td>-159.314682</td>\n",
       "      <td>380.0</td>\n",
       "      <td>494.0</td>\n",
       "      <td>NaN</td>\n",
       "      <td>I gotta run to my meeting!</td>\n",
       "      <td>gramps</td>\n",
       "      <td>tunic.historicalsociety.closet</td>\n",
       "      <td>tunic.historicalsociety.closet.gramps.intro_0_...</td>\n",
       "      <td>0</td>\n",
       "      <td>0</td>\n",
       "      <td>1</td>\n",
       "      <td>0-4</td>\n",
       "    </tr>\n",
       "    <tr>\n",
       "      <th>4</th>\n",
       "      <td>20090312431273200</td>\n",
       "      <td>4</td>\n",
       "      <td>1863</td>\n",
       "      <td>person_click</td>\n",
       "      <td>basic</td>\n",
       "      <td>0</td>\n",
       "      <td>NaN</td>\n",
       "      <td>-412.991394</td>\n",
       "      <td>-159.314682</td>\n",
       "      <td>381.0</td>\n",
       "      <td>494.0</td>\n",
       "      <td>NaN</td>\n",
       "      <td>Can I come, Gramps?</td>\n",
       "      <td>gramps</td>\n",
       "      <td>tunic.historicalsociety.closet</td>\n",
       "      <td>tunic.historicalsociety.closet.gramps.intro_0_...</td>\n",
       "      <td>0</td>\n",
       "      <td>0</td>\n",
       "      <td>1</td>\n",
       "      <td>0-4</td>\n",
       "    </tr>\n",
       "  </tbody>\n",
       "</table>\n",
       "</div>"
      ],
      "text/plain": [
       "          session_id  index  elapsed_time      event_name   name  level  page  \\\n",
       "0  20090312431273200      0             0  cutscene_click  basic      0   NaN   \n",
       "1  20090312431273200      1          1323    person_click  basic      0   NaN   \n",
       "2  20090312431273200      2           831    person_click  basic      0   NaN   \n",
       "3  20090312431273200      3          1147    person_click  basic      0   NaN   \n",
       "4  20090312431273200      4          1863    person_click  basic      0   NaN   \n",
       "\n",
       "   room_coor_x  room_coor_y  screen_coor_x  screen_coor_y  hover_duration  \\\n",
       "0  -413.991394  -159.314682          380.0          494.0             NaN   \n",
       "1  -413.991394  -159.314682          380.0          494.0             NaN   \n",
       "2  -413.991394  -159.314682          380.0          494.0             NaN   \n",
       "3  -413.991394  -159.314682          380.0          494.0             NaN   \n",
       "4  -412.991394  -159.314682          381.0          494.0             NaN   \n",
       "\n",
       "                            text    fqid                       room_fqid  \\\n",
       "0                      undefined   intro  tunic.historicalsociety.closet   \n",
       "1  Whatcha doing over there, Jo?  gramps  tunic.historicalsociety.closet   \n",
       "2         Just talking to Teddy.  gramps  tunic.historicalsociety.closet   \n",
       "3     I gotta run to my meeting!  gramps  tunic.historicalsociety.closet   \n",
       "4            Can I come, Gramps?  gramps  tunic.historicalsociety.closet   \n",
       "\n",
       "                                           text_fqid fullscreen hq music  \\\n",
       "0               tunic.historicalsociety.closet.intro          0  0     1   \n",
       "1  tunic.historicalsociety.closet.gramps.intro_0_...          0  0     1   \n",
       "2  tunic.historicalsociety.closet.gramps.intro_0_...          0  0     1   \n",
       "3  tunic.historicalsociety.closet.gramps.intro_0_...          0  0     1   \n",
       "4  tunic.historicalsociety.closet.gramps.intro_0_...          0  0     1   \n",
       "\n",
       "  level_group  \n",
       "0         0-4  \n",
       "1         0-4  \n",
       "2         0-4  \n",
       "3         0-4  \n",
       "4         0-4  "
      ]
     },
     "execution_count": 3,
     "metadata": {},
     "output_type": "execute_result"
    }
   ],
   "source": [
    "dataset_df.head(5)"
   ]
  },
  {
   "cell_type": "code",
   "execution_count": 4,
   "id": "c2b3a97b",
   "metadata": {
    "execution": {
     "iopub.execute_input": "2023-06-23T13:33:49.729870Z",
     "iopub.status.busy": "2023-06-23T13:33:49.728680Z",
     "iopub.status.idle": "2023-06-23T13:33:50.321915Z",
     "shell.execute_reply": "2023-06-23T13:33:50.320794Z"
    },
    "papermill": {
     "duration": 0.607922,
     "end_time": "2023-06-23T13:33:50.324419",
     "exception": false,
     "start_time": "2023-06-23T13:33:49.716497",
     "status": "completed"
    },
    "tags": []
   },
   "outputs": [
    {
     "name": "stdout",
     "output_type": "stream",
     "text": [
      "19.0048905298737\n"
     ]
    }
   ],
   "source": [
    "#data yang hilang perkolom\n",
    "missingValue = dataset_df.isnull().sum()\n",
    "\n",
    "#jumlah total data yang hilang\n",
    "totalCells = np.product(dataset_df.shape)\n",
    "totalMissing = missingValue.sum()\n",
    "percentMissing = (totalMissing/totalCells)*100\n",
    "\n",
    "print(percentMissing)\n"
   ]
  },
  {
   "cell_type": "markdown",
   "id": "5e7e06a1",
   "metadata": {
    "papermill": {
     "duration": 0.010569,
     "end_time": "2023-06-23T13:33:50.345734",
     "exception": false,
     "start_time": "2023-06-23T13:33:50.335165",
     "status": "completed"
    },
    "tags": []
   },
   "source": [
    "# Memuat Label"
   ]
  },
  {
   "cell_type": "markdown",
   "id": "65326e19",
   "metadata": {
    "papermill": {
     "duration": 0.01049,
     "end_time": "2023-06-23T13:33:50.367012",
     "exception": false,
     "start_time": "2023-06-23T13:33:50.356522",
     "status": "completed"
    },
    "tags": []
   },
   "source": [
    "1. Membuat kolom baru bernama 'session' dengan menggunakan metode .apply() pada kolom 'session_id'. Fungsi lambda digunakan untuk menerapkan fungsi anonim yang membagi 'session_id' berdasarkan karakter '_' dan mengambil elemen pertama (indeks 0) sebagai bilangan bulat. Hasilnya disimpan dalam kolom 'session'.\n",
    "2. Membuat kolom baru bernama 'q' dengan menggunakan metode .apply() pada kolom 'session_id'. Fungsi lambda digunakan untuk menerapkan fungsi anonim yang membagi 'session_id' berdasarkan karakter '_' dan mengambil elemen terakhir (indeks -1) setelah menghilangkan karakter pertama (indeks 1) sebagai bilangan bulat. Hasilnya disimpan dalam kolom 'q'."
   ]
  },
  {
   "cell_type": "code",
   "execution_count": 5,
   "id": "111b1ff2",
   "metadata": {
    "execution": {
     "iopub.execute_input": "2023-06-23T13:33:50.390767Z",
     "iopub.status.busy": "2023-06-23T13:33:50.390001Z",
     "iopub.status.idle": "2023-06-23T13:33:51.865862Z",
     "shell.execute_reply": "2023-06-23T13:33:51.864922Z"
    },
    "papermill": {
     "duration": 1.490824,
     "end_time": "2023-06-23T13:33:51.868478",
     "exception": false,
     "start_time": "2023-06-23T13:33:50.377654",
     "status": "completed"
    },
    "tags": []
   },
   "outputs": [
    {
     "data": {
      "text/html": [
       "<div>\n",
       "<style scoped>\n",
       "    .dataframe tbody tr th:only-of-type {\n",
       "        vertical-align: middle;\n",
       "    }\n",
       "\n",
       "    .dataframe tbody tr th {\n",
       "        vertical-align: top;\n",
       "    }\n",
       "\n",
       "    .dataframe thead th {\n",
       "        text-align: right;\n",
       "    }\n",
       "</style>\n",
       "<table border=\"1\" class=\"dataframe\">\n",
       "  <thead>\n",
       "    <tr style=\"text-align: right;\">\n",
       "      <th></th>\n",
       "      <th>session_id</th>\n",
       "      <th>correct</th>\n",
       "      <th>session</th>\n",
       "      <th>q</th>\n",
       "    </tr>\n",
       "  </thead>\n",
       "  <tbody>\n",
       "    <tr>\n",
       "      <th>0</th>\n",
       "      <td>20090312431273200_q1</td>\n",
       "      <td>1</td>\n",
       "      <td>20090312431273200</td>\n",
       "      <td>1</td>\n",
       "    </tr>\n",
       "    <tr>\n",
       "      <th>1</th>\n",
       "      <td>20090312433251036_q1</td>\n",
       "      <td>0</td>\n",
       "      <td>20090312433251036</td>\n",
       "      <td>1</td>\n",
       "    </tr>\n",
       "    <tr>\n",
       "      <th>2</th>\n",
       "      <td>20090312455206810_q1</td>\n",
       "      <td>1</td>\n",
       "      <td>20090312455206810</td>\n",
       "      <td>1</td>\n",
       "    </tr>\n",
       "    <tr>\n",
       "      <th>3</th>\n",
       "      <td>20090313091715820_q1</td>\n",
       "      <td>0</td>\n",
       "      <td>20090313091715820</td>\n",
       "      <td>1</td>\n",
       "    </tr>\n",
       "    <tr>\n",
       "      <th>4</th>\n",
       "      <td>20090313571836404_q1</td>\n",
       "      <td>1</td>\n",
       "      <td>20090313571836404</td>\n",
       "      <td>1</td>\n",
       "    </tr>\n",
       "  </tbody>\n",
       "</table>\n",
       "</div>"
      ],
      "text/plain": [
       "             session_id  correct            session  q\n",
       "0  20090312431273200_q1        1  20090312431273200  1\n",
       "1  20090312433251036_q1        0  20090312433251036  1\n",
       "2  20090312455206810_q1        1  20090312455206810  1\n",
       "3  20090313091715820_q1        0  20090313091715820  1\n",
       "4  20090313571836404_q1        1  20090313571836404  1"
      ]
     },
     "execution_count": 5,
     "metadata": {},
     "output_type": "execute_result"
    }
   ],
   "source": [
    "label = pd.read_csv('/kaggle/input/predict-student-performance-from-game-play/train_labels.csv')\n",
    "label['session'] = label.session_id.apply(lambda x: int(x.split('_')[0]) )\n",
    "label['q'] = label.session_id.apply(lambda x: int(x.split('_')[-1][1:]) )\n",
    "label.head(5)"
   ]
  },
  {
   "cell_type": "code",
   "execution_count": 6,
   "id": "fcd176dc",
   "metadata": {
    "execution": {
     "iopub.execute_input": "2023-06-23T13:33:51.892972Z",
     "iopub.status.busy": "2023-06-23T13:33:51.892570Z",
     "iopub.status.idle": "2023-06-23T13:33:51.897697Z",
     "shell.execute_reply": "2023-06-23T13:33:51.896831Z"
    },
    "papermill": {
     "duration": 0.021051,
     "end_time": "2023-06-23T13:33:51.900817",
     "exception": false,
     "start_time": "2023-06-23T13:33:51.879766",
     "status": "completed"
    },
    "tags": []
   },
   "outputs": [
    {
     "name": "stdout",
     "output_type": "stream",
     "text": [
      "Full train label shape is (424116, 4)\n"
     ]
    }
   ],
   "source": [
    "print(\"Full train label shape is {}\".format(label.shape))"
   ]
  },
  {
   "cell_type": "markdown",
   "id": "cf90a1f8",
   "metadata": {
    "papermill": {
     "duration": 0.011322,
     "end_time": "2023-06-23T13:33:51.923871",
     "exception": false,
     "start_time": "2023-06-23T13:33:51.912549",
     "status": "completed"
    },
    "tags": []
   },
   "source": [
    "# Diagram Batang untuk Kolom Label Bernilai Benar"
   ]
  },
  {
   "cell_type": "markdown",
   "id": "213afe30",
   "metadata": {
    "papermill": {
     "duration": 0.010943,
     "end_time": "2023-06-23T13:33:51.945809",
     "exception": false,
     "start_time": "2023-06-23T13:33:51.934866",
     "status": "completed"
    },
    "tags": []
   },
   "source": [
    "1. Mengatur ukuran figure menggunakan fungsi figure(figsize=(10, 20)) dengan lebar 10 inci dan tinggi 20 inci.\n",
    "2. Mengatur jarak antara subplot menggunakan fungsi subplots_adjust(hspace=0.5, wspace=0.5) dengan jarak vertikal (hspace) dan jarak horizontal (wspace) masing-masing 0.5.\n",
    "3. Menetapkan judul utama menggunakan fungsi suptitle() dengan teks \"\"Correct\" column values for each question\" dan fontsize 14. Parameter y=0.94 digunakan untuk mengatur posisi vertikal judul.\n",
    "4. Melakukan perulangan dari 1 hingga 18 menggunakan range(1, 19).\n",
    "5. Pada setiap iterasi, membuat subplot baru dengan menggunakan subplot(6, 3, n), dengan 6 baris, 3 kolom, dan nomor subplot sesuai dengan nilai n.\n",
    "6. Memfilter DataFrame label untuk mengambil baris yang memiliki nilai kolom 'q' sama dengan n menggunakan loc[label.q == n].\n",
    "7. Menghitung jumlah nilai 'correct' yang unik dan menggambarkannya dalam bentuk diagram batang menggunakan value_counts() dan plot() dengan jenis 'bar'. Warna batang ditentukan sebagai ['b', 'c'].\n",
    "8. Mengatur judul subplot dengan menggunakan set_title() dan menambahkan teks \"Question\" diikuti dengan nomor n dalam bentuk string.\n",
    "9. Mengatur label sumbu x pada subplot menjadi kosong menggunakan set_xlabel(\"\").\n",
    "\n",
    "Dengan demikian, program tersebut menghasilkan subplot-grid berukuran 6x3 dengan diagram batang yang menunjukkan jumlah nilai 'correct' untuk setiap pertanyaan. Setiap subplot memiliki judul yang menunjukkan nomor pertanyaan yang sesuai.\n",
    "\n",
    "\n",
    "\n",
    "\n",
    "\n",
    "\n"
   ]
  },
  {
   "cell_type": "code",
   "execution_count": 7,
   "id": "3b0bdb94",
   "metadata": {
    "execution": {
     "iopub.execute_input": "2023-06-23T13:33:51.970885Z",
     "iopub.status.busy": "2023-06-23T13:33:51.970117Z",
     "iopub.status.idle": "2023-06-23T13:33:55.101546Z",
     "shell.execute_reply": "2023-06-23T13:33:55.100485Z"
    },
    "papermill": {
     "duration": 3.14718,
     "end_time": "2023-06-23T13:33:55.104332",
     "exception": false,
     "start_time": "2023-06-23T13:33:51.957152",
     "status": "completed"
    },
    "tags": []
   },
   "outputs": [
    {
     "data": {
      "image/png": "[encoded data removed]",
      "text/plain": [
       "<Figure size 1000x2000 with 18 Axes>"
      ]
     },
     "metadata": {},
     "output_type": "display_data"
    }
   ],
   "source": [
    "plt.figure(figsize=(10, 20))\n",
    "plt.subplots_adjust(hspace=0.5, wspace=0.5)\n",
    "plt.suptitle(\"\\\"Correct\\\" column values for each question\", fontsize=14, y=0.94)\n",
    "for n in range(1,19):\n",
    "    #print(n, str(n))\n",
    "    ax = plt.subplot(6, 3, n)\n",
    "\n",
    "    # filter df and plot ticker on the new subplot axis\n",
    "    plot_df = label.loc[label.q == n]\n",
    "    plot_df = plot_df.correct.value_counts()\n",
    "    plot_df.plot(ax=ax, kind=\"bar\", color=['b', 'r'])\n",
    "    \n",
    "    # chart formatting\n",
    "    ax.set_title(\"Question \" + str(n))\n",
    "    ax.set_xlabel(\"\")"
   ]
  },
  {
   "cell_type": "markdown",
   "id": "0d99dda4",
   "metadata": {
    "papermill": {
     "duration": 0.013412,
     "end_time": "2023-06-23T13:33:55.131278",
     "exception": false,
     "start_time": "2023-06-23T13:33:55.117866",
     "status": "completed"
    },
    "tags": []
   },
   "source": [
    "# Menyiapkan Dataset"
   ]
  },
  {
   "cell_type": "markdown",
   "id": "b3798fc4",
   "metadata": {
    "papermill": {
     "duration": 0.012228,
     "end_time": "2023-06-23T13:33:55.156254",
     "exception": false,
     "start_time": "2023-06-23T13:33:55.144026",
     "status": "completed"
    },
    "tags": []
   },
   "source": [
    "Fungsi feature_engineer melakukan beberapa operasi pemrosesan data pada DataFrame input dataset_df, seperti menghitung jumlah nilai unik dan statistik ringkasan dari fitur kategorikal dan numerikal berdasarkan kelompok 'session_id' dan 'level_group'."
   ]
  },
  {
   "cell_type": "code",
   "execution_count": 8,
   "id": "042fd688",
   "metadata": {
    "execution": {
     "iopub.execute_input": "2023-06-23T13:33:55.183669Z",
     "iopub.status.busy": "2023-06-23T13:33:55.183270Z",
     "iopub.status.idle": "2023-06-23T13:34:37.267289Z",
     "shell.execute_reply": "2023-06-23T13:34:37.266276Z"
    },
    "papermill": {
     "duration": 42.11389,
     "end_time": "2023-06-23T13:34:37.282931",
     "exception": false,
     "start_time": "2023-06-23T13:33:55.169041",
     "status": "completed"
    },
    "tags": []
   },
   "outputs": [
    {
     "name": "stdout",
     "output_type": "stream",
     "text": [
      "Full prepared dataset shape is (70686, 22)\n"
     ]
    },
    {
     "data": {
      "text/html": [
       "<div>\n",
       "<style scoped>\n",
       "    .dataframe tbody tr th:only-of-type {\n",
       "        vertical-align: middle;\n",
       "    }\n",
       "\n",
       "    .dataframe tbody tr th {\n",
       "        vertical-align: top;\n",
       "    }\n",
       "\n",
       "    .dataframe thead th {\n",
       "        text-align: right;\n",
       "    }\n",
       "</style>\n",
       "<table border=\"1\" class=\"dataframe\">\n",
       "  <thead>\n",
       "    <tr style=\"text-align: right;\">\n",
       "      <th></th>\n",
       "      <th>level_group</th>\n",
       "      <th>event_name_nunique</th>\n",
       "      <th>name_nunique</th>\n",
       "      <th>fqid_nunique</th>\n",
       "      <th>room_fqid_nunique</th>\n",
       "      <th>text_fqid_nunique</th>\n",
       "      <th>elapsed_time</th>\n",
       "      <th>level</th>\n",
       "      <th>page</th>\n",
       "      <th>room_coor_x</th>\n",
       "      <th>...</th>\n",
       "      <th>screen_coor_y</th>\n",
       "      <th>hover_duration</th>\n",
       "      <th>elapsed_time_std</th>\n",
       "      <th>level_std</th>\n",
       "      <th>page_std</th>\n",
       "      <th>room_coor_x_std</th>\n",
       "      <th>room_coor_y_std</th>\n",
       "      <th>screen_coor_x_std</th>\n",
       "      <th>screen_coor_y_std</th>\n",
       "      <th>hover_duration_std</th>\n",
       "    </tr>\n",
       "    <tr>\n",
       "      <th>session_id</th>\n",
       "      <th></th>\n",
       "      <th></th>\n",
       "      <th></th>\n",
       "      <th></th>\n",
       "      <th></th>\n",
       "      <th></th>\n",
       "      <th></th>\n",
       "      <th></th>\n",
       "      <th></th>\n",
       "      <th></th>\n",
       "      <th></th>\n",
       "      <th></th>\n",
       "      <th></th>\n",
       "      <th></th>\n",
       "      <th></th>\n",
       "      <th></th>\n",
       "      <th></th>\n",
       "      <th></th>\n",
       "      <th></th>\n",
       "      <th></th>\n",
       "      <th></th>\n",
       "    </tr>\n",
       "  </thead>\n",
       "  <tbody>\n",
       "    <tr>\n",
       "      <th>20090312431273200</th>\n",
       "      <td>0-4</td>\n",
       "      <td>10</td>\n",
       "      <td>3</td>\n",
       "      <td>30</td>\n",
       "      <td>7</td>\n",
       "      <td>17</td>\n",
       "      <td>8.579356e+04</td>\n",
       "      <td>1.945455</td>\n",
       "      <td>-1.0</td>\n",
       "      <td>7.701275</td>\n",
       "      <td>...</td>\n",
       "      <td>383.044861</td>\n",
       "      <td>2389.500000</td>\n",
       "      <td>49246.539458</td>\n",
       "      <td>1.230975</td>\n",
       "      <td>-1.000000</td>\n",
       "      <td>399.296038</td>\n",
       "      <td>129.292411</td>\n",
       "      <td>214.871000</td>\n",
       "      <td>104.082743</td>\n",
       "      <td>3227.370757</td>\n",
       "    </tr>\n",
       "    <tr>\n",
       "      <th>20090312431273200</th>\n",
       "      <td>13-22</td>\n",
       "      <td>10</td>\n",
       "      <td>3</td>\n",
       "      <td>49</td>\n",
       "      <td>12</td>\n",
       "      <td>35</td>\n",
       "      <td>1.040601e+06</td>\n",
       "      <td>17.402381</td>\n",
       "      <td>-1.0</td>\n",
       "      <td>-130.347168</td>\n",
       "      <td>...</td>\n",
       "      <td>379.301025</td>\n",
       "      <td>899.925903</td>\n",
       "      <td>126666.129584</td>\n",
       "      <td>2.358652</td>\n",
       "      <td>-1.000000</td>\n",
       "      <td>622.061374</td>\n",
       "      <td>230.370874</td>\n",
       "      <td>240.280218</td>\n",
       "      <td>99.067861</td>\n",
       "      <td>1305.088265</td>\n",
       "    </tr>\n",
       "    <tr>\n",
       "      <th>20090312431273200</th>\n",
       "      <td>5-12</td>\n",
       "      <td>10</td>\n",
       "      <td>3</td>\n",
       "      <td>39</td>\n",
       "      <td>11</td>\n",
       "      <td>24</td>\n",
       "      <td>3.572052e+05</td>\n",
       "      <td>8.054054</td>\n",
       "      <td>-1.0</td>\n",
       "      <td>14.306062</td>\n",
       "      <td>...</td>\n",
       "      <td>378.784912</td>\n",
       "      <td>969.333313</td>\n",
       "      <td>80175.676658</td>\n",
       "      <td>2.096919</td>\n",
       "      <td>-1.000000</td>\n",
       "      <td>357.227701</td>\n",
       "      <td>137.409476</td>\n",
       "      <td>203.268560</td>\n",
       "      <td>120.255453</td>\n",
       "      <td>1316.408315</td>\n",
       "    </tr>\n",
       "    <tr>\n",
       "      <th>20090312433251036</th>\n",
       "      <td>0-4</td>\n",
       "      <td>11</td>\n",
       "      <td>4</td>\n",
       "      <td>22</td>\n",
       "      <td>6</td>\n",
       "      <td>11</td>\n",
       "      <td>9.763342e+04</td>\n",
       "      <td>1.870504</td>\n",
       "      <td>0.0</td>\n",
       "      <td>-84.045959</td>\n",
       "      <td>...</td>\n",
       "      <td>370.723083</td>\n",
       "      <td>1378.750000</td>\n",
       "      <td>67372.714092</td>\n",
       "      <td>1.232616</td>\n",
       "      <td>0.000000</td>\n",
       "      <td>445.980041</td>\n",
       "      <td>156.186242</td>\n",
       "      <td>252.554707</td>\n",
       "      <td>121.062929</td>\n",
       "      <td>2114.876406</td>\n",
       "    </tr>\n",
       "    <tr>\n",
       "      <th>20090312433251036</th>\n",
       "      <td>13-22</td>\n",
       "      <td>11</td>\n",
       "      <td>6</td>\n",
       "      <td>73</td>\n",
       "      <td>16</td>\n",
       "      <td>43</td>\n",
       "      <td>2.498852e+06</td>\n",
       "      <td>17.762529</td>\n",
       "      <td>5.1</td>\n",
       "      <td>-30.762283</td>\n",
       "      <td>...</td>\n",
       "      <td>387.930084</td>\n",
       "      <td>720.384949</td>\n",
       "      <td>777382.529186</td>\n",
       "      <td>1.825923</td>\n",
       "      <td>0.863075</td>\n",
       "      <td>529.575656</td>\n",
       "      <td>234.279590</td>\n",
       "      <td>259.288856</td>\n",
       "      <td>133.345693</td>\n",
       "      <td>1990.705518</td>\n",
       "    </tr>\n",
       "  </tbody>\n",
       "</table>\n",
       "<p>5 rows × 22 columns</p>\n",
       "</div>"
      ],
      "text/plain": [
       "                  level_group  event_name_nunique  name_nunique  fqid_nunique  \\\n",
       "session_id                                                                      \n",
       "20090312431273200         0-4                  10             3            30   \n",
       "20090312431273200       13-22                  10             3            49   \n",
       "20090312431273200        5-12                  10             3            39   \n",
       "20090312433251036         0-4                  11             4            22   \n",
       "20090312433251036       13-22                  11             6            73   \n",
       "\n",
       "                   room_fqid_nunique  text_fqid_nunique  elapsed_time  \\\n",
       "session_id                                                              \n",
       "20090312431273200                  7                 17  8.579356e+04   \n",
       "20090312431273200                 12                 35  1.040601e+06   \n",
       "20090312431273200                 11                 24  3.572052e+05   \n",
       "20090312433251036                  6                 11  9.763342e+04   \n",
       "20090312433251036                 16                 43  2.498852e+06   \n",
       "\n",
       "                       level  page  room_coor_x  ...  screen_coor_y  \\\n",
       "session_id                                       ...                  \n",
       "20090312431273200   1.945455  -1.0     7.701275  ...     383.044861   \n",
       "20090312431273200  17.402381  -1.0  -130.347168  ...     379.301025   \n",
       "20090312431273200   8.054054  -1.0    14.306062  ...     378.784912   \n",
       "20090312433251036   1.870504   0.0   -84.045959  ...     370.723083   \n",
       "20090312433251036  17.762529   5.1   -30.762283  ...     387.930084   \n",
       "\n",
       "                   hover_duration  elapsed_time_std  level_std  page_std  \\\n",
       "session_id                                                                 \n",
       "20090312431273200     2389.500000      49246.539458   1.230975 -1.000000   \n",
       "20090312431273200      899.925903     126666.129584   2.358652 -1.000000   \n",
       "20090312431273200      969.333313      80175.676658   2.096919 -1.000000   \n",
       "20090312433251036     1378.750000      67372.714092   1.232616  0.000000   \n",
       "20090312433251036      720.384949     777382.529186   1.825923  0.863075   \n",
       "\n",
       "                   room_coor_x_std  room_coor_y_std  screen_coor_x_std  \\\n",
       "session_id                                                               \n",
       "20090312431273200       399.296038       129.292411         214.871000   \n",
       "20090312431273200       622.061374       230.370874         240.280218   \n",
       "20090312431273200       357.227701       137.409476         203.268560   \n",
       "20090312433251036       445.980041       156.186242         252.554707   \n",
       "20090312433251036       529.575656       234.279590         259.288856   \n",
       "\n",
       "                   screen_coor_y_std  hover_duration_std  \n",
       "session_id                                                \n",
       "20090312431273200         104.082743         3227.370757  \n",
       "20090312431273200          99.067861         1305.088265  \n",
       "20090312431273200         120.255453         1316.408315  \n",
       "20090312433251036         121.062929         2114.876406  \n",
       "20090312433251036         133.345693         1990.705518  \n",
       "\n",
       "[5 rows x 22 columns]"
      ]
     },
     "execution_count": 8,
     "metadata": {},
     "output_type": "execute_result"
    }
   ],
   "source": [
    "CATEGORICAL = ['event_name', 'name','fqid', 'room_fqid', 'text_fqid']\n",
    "NUMERICAL = ['elapsed_time','level','page','room_coor_x', 'room_coor_y','screen_coor_x', 'screen_coor_y', 'hover_duration']\n",
    "\n",
    "def feature_engineer(dataset_df):\n",
    "    dfs = []\n",
    "    for c in CATEGORICAL:\n",
    "        tmp = dataset_df.groupby(['session_id','level_group'])[c].agg('nunique')\n",
    "        tmp.name = tmp.name + '_nunique'\n",
    "        dfs.append(tmp)\n",
    "    for c in NUMERICAL:\n",
    "        tmp = dataset_df.groupby(['session_id','level_group'])[c].agg('mean')\n",
    "        dfs.append(tmp)\n",
    "    for c in NUMERICAL:\n",
    "        tmp = dataset_df.groupby(['session_id','level_group'])[c].agg('std')\n",
    "        tmp.name = tmp.name + '_std'\n",
    "        dfs.append(tmp)\n",
    "    dataset_df = pd.concat(dfs,axis=1)\n",
    "    dataset_df = dataset_df.fillna(-1)\n",
    "    dataset_df = dataset_df.reset_index()\n",
    "    dataset_df = dataset_df.set_index('session_id')\n",
    "    return dataset_df\n",
    "\n",
    "dataset_df = feature_engineer(dataset_df)\n",
    "print(\"Full prepared dataset shape is {}\".format(dataset_df.shape))\n",
    "\n",
    "dataset_df.head(5)\n",
    "# Reference: https://www.kaggle.com/code/cdeotte/random-forest-baseline-0-664/notebook"
   ]
  },
  {
   "cell_type": "code",
   "execution_count": 9,
   "id": "e7704af3",
   "metadata": {
    "execution": {
     "iopub.execute_input": "2023-06-23T13:34:37.311369Z",
     "iopub.status.busy": "2023-06-23T13:34:37.310430Z",
     "iopub.status.idle": "2023-06-23T13:34:37.456910Z",
     "shell.execute_reply": "2023-06-23T13:34:37.455985Z"
    },
    "papermill": {
     "duration": 0.163386,
     "end_time": "2023-06-23T13:34:37.459331",
     "exception": false,
     "start_time": "2023-06-23T13:34:37.295945",
     "status": "completed"
    },
    "tags": []
   },
   "outputs": [
    {
     "data": {
      "text/html": [
       "<div>\n",
       "<style scoped>\n",
       "    .dataframe tbody tr th:only-of-type {\n",
       "        vertical-align: middle;\n",
       "    }\n",
       "\n",
       "    .dataframe tbody tr th {\n",
       "        vertical-align: top;\n",
       "    }\n",
       "\n",
       "    .dataframe thead th {\n",
       "        text-align: right;\n",
       "    }\n",
       "</style>\n",
       "<table border=\"1\" class=\"dataframe\">\n",
       "  <thead>\n",
       "    <tr style=\"text-align: right;\">\n",
       "      <th></th>\n",
       "      <th>event_name_nunique</th>\n",
       "      <th>name_nunique</th>\n",
       "      <th>fqid_nunique</th>\n",
       "      <th>room_fqid_nunique</th>\n",
       "      <th>text_fqid_nunique</th>\n",
       "      <th>elapsed_time</th>\n",
       "      <th>level</th>\n",
       "      <th>page</th>\n",
       "      <th>room_coor_x</th>\n",
       "      <th>room_coor_y</th>\n",
       "      <th>...</th>\n",
       "      <th>screen_coor_y</th>\n",
       "      <th>hover_duration</th>\n",
       "      <th>elapsed_time_std</th>\n",
       "      <th>level_std</th>\n",
       "      <th>page_std</th>\n",
       "      <th>room_coor_x_std</th>\n",
       "      <th>room_coor_y_std</th>\n",
       "      <th>screen_coor_x_std</th>\n",
       "      <th>screen_coor_y_std</th>\n",
       "      <th>hover_duration_std</th>\n",
       "    </tr>\n",
       "  </thead>\n",
       "  <tbody>\n",
       "    <tr>\n",
       "      <th>count</th>\n",
       "      <td>70686.000000</td>\n",
       "      <td>70686.000000</td>\n",
       "      <td>70686.000000</td>\n",
       "      <td>70686.000000</td>\n",
       "      <td>70686.000000</td>\n",
       "      <td>7.068600e+04</td>\n",
       "      <td>70686.000000</td>\n",
       "      <td>70686.000000</td>\n",
       "      <td>70686.000000</td>\n",
       "      <td>70686.000000</td>\n",
       "      <td>...</td>\n",
       "      <td>70686.000000</td>\n",
       "      <td>7.068600e+04</td>\n",
       "      <td>7.068600e+04</td>\n",
       "      <td>70686.000000</td>\n",
       "      <td>70686.000000</td>\n",
       "      <td>70686.000000</td>\n",
       "      <td>70686.000000</td>\n",
       "      <td>70686.000000</td>\n",
       "      <td>70686.000000</td>\n",
       "      <td>7.068600e+04</td>\n",
       "    </tr>\n",
       "    <tr>\n",
       "      <th>mean</th>\n",
       "      <td>10.390021</td>\n",
       "      <td>3.885324</td>\n",
       "      <td>40.468650</td>\n",
       "      <td>10.268908</td>\n",
       "      <td>23.838412</td>\n",
       "      <td>2.811806e+06</td>\n",
       "      <td>9.311221</td>\n",
       "      <td>1.439995</td>\n",
       "      <td>-33.454849</td>\n",
       "      <td>-92.222832</td>\n",
       "      <td>...</td>\n",
       "      <td>379.749146</td>\n",
       "      <td>4.119625e+03</td>\n",
       "      <td>9.322398e+05</td>\n",
       "      <td>1.916549</td>\n",
       "      <td>0.038805</td>\n",
       "      <td>468.689088</td>\n",
       "      <td>183.186301</td>\n",
       "      <td>240.795420</td>\n",
       "      <td>124.016602</td>\n",
       "      <td>1.322598e+04</td>\n",
       "    </tr>\n",
       "    <tr>\n",
       "      <th>std</th>\n",
       "      <td>0.832923</td>\n",
       "      <td>0.799293</td>\n",
       "      <td>13.020929</td>\n",
       "      <td>2.928351</td>\n",
       "      <td>8.989095</td>\n",
       "      <td>2.289877e+07</td>\n",
       "      <td>6.523788</td>\n",
       "      <td>2.350494</td>\n",
       "      <td>80.784378</td>\n",
       "      <td>69.349052</td>\n",
       "      <td>...</td>\n",
       "      <td>36.971046</td>\n",
       "      <td>1.394260e+05</td>\n",
       "      <td>1.206491e+07</td>\n",
       "      <td>0.492239</td>\n",
       "      <td>0.785170</td>\n",
       "      <td>106.991644</td>\n",
       "      <td>48.884988</td>\n",
       "      <td>28.709135</td>\n",
       "      <td>15.844603</td>\n",
       "      <td>4.868272e+05</td>\n",
       "    </tr>\n",
       "    <tr>\n",
       "      <th>min</th>\n",
       "      <td>7.000000</td>\n",
       "      <td>3.000000</td>\n",
       "      <td>18.000000</td>\n",
       "      <td>5.000000</td>\n",
       "      <td>8.000000</td>\n",
       "      <td>4.591262e+02</td>\n",
       "      <td>0.923372</td>\n",
       "      <td>-1.000000</td>\n",
       "      <td>-461.440765</td>\n",
       "      <td>-409.231293</td>\n",
       "      <td>...</td>\n",
       "      <td>177.051849</td>\n",
       "      <td>-1.000000e+00</td>\n",
       "      <td>2.337003e+02</td>\n",
       "      <td>0.684670</td>\n",
       "      <td>-1.000000</td>\n",
       "      <td>261.425412</td>\n",
       "      <td>90.098533</td>\n",
       "      <td>109.415466</td>\n",
       "      <td>68.257406</td>\n",
       "      <td>-1.000000e+00</td>\n",
       "    </tr>\n",
       "    <tr>\n",
       "      <th>25%</th>\n",
       "      <td>10.000000</td>\n",
       "      <td>3.000000</td>\n",
       "      <td>25.000000</td>\n",
       "      <td>7.000000</td>\n",
       "      <td>15.000000</td>\n",
       "      <td>1.642777e+05</td>\n",
       "      <td>2.051613</td>\n",
       "      <td>-1.000000</td>\n",
       "      <td>-90.615677</td>\n",
       "      <td>-151.717484</td>\n",
       "      <td>...</td>\n",
       "      <td>358.117455</td>\n",
       "      <td>9.709706e+02</td>\n",
       "      <td>8.240024e+04</td>\n",
       "      <td>1.295298</td>\n",
       "      <td>-1.000000</td>\n",
       "      <td>381.066225</td>\n",
       "      <td>143.588600</td>\n",
       "      <td>222.569734</td>\n",
       "      <td>113.994303</td>\n",
       "      <td>1.368802e+03</td>\n",
       "    </tr>\n",
       "    <tr>\n",
       "      <th>50%</th>\n",
       "      <td>11.000000</td>\n",
       "      <td>4.000000</td>\n",
       "      <td>43.000000</td>\n",
       "      <td>11.000000</td>\n",
       "      <td>23.000000</td>\n",
       "      <td>5.882137e+05</td>\n",
       "      <td>8.140526</td>\n",
       "      <td>1.000000</td>\n",
       "      <td>-20.255625</td>\n",
       "      <td>-71.538723</td>\n",
       "      <td>...</td>\n",
       "      <td>377.843857</td>\n",
       "      <td>1.427761e+03</td>\n",
       "      <td>1.440869e+05</td>\n",
       "      <td>2.099711</td>\n",
       "      <td>0.000000</td>\n",
       "      <td>431.901352</td>\n",
       "      <td>162.941973</td>\n",
       "      <td>238.383832</td>\n",
       "      <td>122.388964</td>\n",
       "      <td>2.041432e+03</td>\n",
       "    </tr>\n",
       "    <tr>\n",
       "      <th>75%</th>\n",
       "      <td>11.000000</td>\n",
       "      <td>4.000000</td>\n",
       "      <td>51.000000</td>\n",
       "      <td>12.000000</td>\n",
       "      <td>32.000000</td>\n",
       "      <td>1.351434e+06</td>\n",
       "      <td>17.592593</td>\n",
       "      <td>4.000000</td>\n",
       "      <td>23.220109</td>\n",
       "      <td>-38.693486</td>\n",
       "      <td>...</td>\n",
       "      <td>397.018394</td>\n",
       "      <td>2.158794e+03</td>\n",
       "      <td>2.240529e+05</td>\n",
       "      <td>2.316163</td>\n",
       "      <td>0.735893</td>\n",
       "      <td>585.347609</td>\n",
       "      <td>233.385259</td>\n",
       "      <td>255.083349</td>\n",
       "      <td>132.067430</td>\n",
       "      <td>3.105588e+03</td>\n",
       "    </tr>\n",
       "    <tr>\n",
       "      <th>max</th>\n",
       "      <td>11.000000</td>\n",
       "      <td>6.000000</td>\n",
       "      <td>81.000000</td>\n",
       "      <td>17.000000</td>\n",
       "      <td>48.000000</td>\n",
       "      <td>1.191886e+09</td>\n",
       "      <td>20.222101</td>\n",
       "      <td>6.000000</td>\n",
       "      <td>328.096100</td>\n",
       "      <td>160.347977</td>\n",
       "      <td>...</td>\n",
       "      <td>986.192993</td>\n",
       "      <td>2.772298e+07</td>\n",
       "      <td>9.946229e+08</td>\n",
       "      <td>3.580235</td>\n",
       "      <td>2.715695</td>\n",
       "      <td>817.257133</td>\n",
       "      <td>349.049304</td>\n",
       "      <td>612.958607</td>\n",
       "      <td>331.833790</td>\n",
       "      <td>7.837739e+07</td>\n",
       "    </tr>\n",
       "  </tbody>\n",
       "</table>\n",
       "<p>8 rows × 21 columns</p>\n",
       "</div>"
      ],
      "text/plain": [
       "       event_name_nunique  name_nunique  fqid_nunique  room_fqid_nunique  \\\n",
       "count        70686.000000  70686.000000  70686.000000       70686.000000   \n",
       "mean            10.390021      3.885324     40.468650          10.268908   \n",
       "std              0.832923      0.799293     13.020929           2.928351   \n",
       "min              7.000000      3.000000     18.000000           5.000000   \n",
       "25%             10.000000      3.000000     25.000000           7.000000   \n",
       "50%             11.000000      4.000000     43.000000          11.000000   \n",
       "75%             11.000000      4.000000     51.000000          12.000000   \n",
       "max             11.000000      6.000000     81.000000          17.000000   \n",
       "\n",
       "       text_fqid_nunique  elapsed_time         level          page  \\\n",
       "count       70686.000000  7.068600e+04  70686.000000  70686.000000   \n",
       "mean           23.838412  2.811806e+06      9.311221      1.439995   \n",
       "std             8.989095  2.289877e+07      6.523788      2.350494   \n",
       "min             8.000000  4.591262e+02      0.923372     -1.000000   \n",
       "25%            15.000000  1.642777e+05      2.051613     -1.000000   \n",
       "50%            23.000000  5.882137e+05      8.140526      1.000000   \n",
       "75%            32.000000  1.351434e+06     17.592593      4.000000   \n",
       "max            48.000000  1.191886e+09     20.222101      6.000000   \n",
       "\n",
       "        room_coor_x   room_coor_y  ...  screen_coor_y  hover_duration  \\\n",
       "count  70686.000000  70686.000000  ...   70686.000000    7.068600e+04   \n",
       "mean     -33.454849    -92.222832  ...     379.749146    4.119625e+03   \n",
       "std       80.784378     69.349052  ...      36.971046    1.394260e+05   \n",
       "min     -461.440765   -409.231293  ...     177.051849   -1.000000e+00   \n",
       "25%      -90.615677   -151.717484  ...     358.117455    9.709706e+02   \n",
       "50%      -20.255625    -71.538723  ...     377.843857    1.427761e+03   \n",
       "75%       23.220109    -38.693486  ...     397.018394    2.158794e+03   \n",
       "max      328.096100    160.347977  ...     986.192993    2.772298e+07   \n",
       "\n",
       "       elapsed_time_std     level_std      page_std  room_coor_x_std  \\\n",
       "count      7.068600e+04  70686.000000  70686.000000     70686.000000   \n",
       "mean       9.322398e+05      1.916549      0.038805       468.689088   \n",
       "std        1.206491e+07      0.492239      0.785170       106.991644   \n",
       "min        2.337003e+02      0.684670     -1.000000       261.425412   \n",
       "25%        8.240024e+04      1.295298     -1.000000       381.066225   \n",
       "50%        1.440869e+05      2.099711      0.000000       431.901352   \n",
       "75%        2.240529e+05      2.316163      0.735893       585.347609   \n",
       "max        9.946229e+08      3.580235      2.715695       817.257133   \n",
       "\n",
       "       room_coor_y_std  screen_coor_x_std  screen_coor_y_std  \\\n",
       "count     70686.000000       70686.000000       70686.000000   \n",
       "mean        183.186301         240.795420         124.016602   \n",
       "std          48.884988          28.709135          15.844603   \n",
       "min          90.098533         109.415466          68.257406   \n",
       "25%         143.588600         222.569734         113.994303   \n",
       "50%         162.941973         238.383832         122.388964   \n",
       "75%         233.385259         255.083349         132.067430   \n",
       "max         349.049304         612.958607         331.833790   \n",
       "\n",
       "       hover_duration_std  \n",
       "count        7.068600e+04  \n",
       "mean         1.322598e+04  \n",
       "std          4.868272e+05  \n",
       "min         -1.000000e+00  \n",
       "25%          1.368802e+03  \n",
       "50%          2.041432e+03  \n",
       "75%          3.105588e+03  \n",
       "max          7.837739e+07  \n",
       "\n",
       "[8 rows x 21 columns]"
      ]
     },
     "execution_count": 9,
     "metadata": {},
     "output_type": "execute_result"
    }
   ],
   "source": [
    "dataset_df.describe()"
   ]
  },
  {
   "cell_type": "markdown",
   "id": "655e140a",
   "metadata": {
    "papermill": {
     "duration": 0.013407,
     "end_time": "2023-06-23T13:34:37.486615",
     "exception": false,
     "start_time": "2023-06-23T13:34:37.473208",
     "status": "completed"
    },
    "tags": []
   },
   "source": [
    "# Distribusi Data Numerik"
   ]
  },
  {
   "cell_type": "code",
   "execution_count": 10,
   "id": "2169b4fe",
   "metadata": {
    "execution": {
     "iopub.execute_input": "2023-06-23T13:34:37.516908Z",
     "iopub.status.busy": "2023-06-23T13:34:37.516120Z",
     "iopub.status.idle": "2023-06-23T13:34:40.878121Z",
     "shell.execute_reply": "2023-06-23T13:34:40.875827Z"
    },
    "papermill": {
     "duration": 3.380811,
     "end_time": "2023-06-23T13:34:40.881401",
     "exception": false,
     "start_time": "2023-06-23T13:34:37.500590",
     "status": "completed"
    },
    "tags": []
   },
   "outputs": [
    {
     "data": {
      "image/png": "[encoded data removed]",
      "text/plain": [
       "<Figure size 1000x1000 with 6 Axes>"
      ]
     },
     "metadata": {},
     "output_type": "display_data"
    },
    {
     "name": "stdout",
     "output_type": "stream",
     "text": [
      "56547 examples in training, 14139 examples in testing.\n"
     ]
    }
   ],
   "source": [
    "figure, axis = plt.subplots(3, 2, figsize=(10, 10))\n",
    "\n",
    "for name, data in dataset_df.groupby('level_group'):\n",
    "    axis[0, 0].plot(range(1, len(data['room_coor_x_std'])+1), data['room_coor_x_std'], label=name)\n",
    "    axis[0, 1].plot(range(1, len(data['room_coor_y_std'])+1), data['room_coor_y_std'], label=name)\n",
    "    axis[1, 0].plot(range(1, len(data['screen_coor_x_std'])+1), data['screen_coor_x_std'], label=name)\n",
    "    axis[1, 1].plot(range(1, len(data['screen_coor_y_std'])+1), data['screen_coor_y_std'], label=name)\n",
    "    axis[2, 0].plot(range(1, len(data['hover_duration'])+1), data['hover_duration_std'], label=name)\n",
    "    axis[2, 1].plot(range(1, len(data['elapsed_time_std'])+1), data['elapsed_time_std'], label=name)\n",
    "    \n",
    "\n",
    "axis[0, 0].set_title('room_coor_x')\n",
    "axis[0, 1].set_title('room_coor_y')\n",
    "axis[1, 0].set_title('screen_coor_x')\n",
    "axis[1, 1].set_title('screen_coor_y')\n",
    "axis[2, 0].set_title('hover_duration')\n",
    "axis[2, 1].set_title('elapsed_time_std')\n",
    "\n",
    "for i in range(3):\n",
    "    axis[i, 0].legend()\n",
    "    axis[i, 1].legend()\n",
    "\n",
    "plt.show()\n",
    "\n",
    "def split_dataset(dataset, test_ratio=0.20):\n",
    "    USER_LIST = dataset.index.unique()\n",
    "    split = int(len(USER_LIST) * (1 - 0.20))\n",
    "    return dataset.loc[USER_LIST[:split]], dataset.loc[USER_LIST[split:]]\n",
    "\n",
    "train_x, valid_x = split_dataset(dataset_df)\n",
    "print(\"{} examples in training, {} examples in testing.\".format(\n",
    "    len(train_x), len(valid_x)))"
   ]
  },
  {
   "cell_type": "markdown",
   "id": "663d03a6",
   "metadata": {
    "papermill": {
     "duration": 0.017379,
     "end_time": "2023-06-23T13:34:40.915061",
     "exception": false,
     "start_time": "2023-06-23T13:34:40.897682",
     "status": "completed"
    },
    "tags": []
   },
   "source": [
    "# Membuat Model"
   ]
  },
  {
   "cell_type": "code",
   "execution_count": 11,
   "id": "66e5ee81",
   "metadata": {
    "execution": {
     "iopub.execute_input": "2023-06-23T13:34:40.949492Z",
     "iopub.status.busy": "2023-06-23T13:34:40.948723Z",
     "iopub.status.idle": "2023-06-23T13:34:41.142433Z",
     "shell.execute_reply": "2023-06-23T13:34:41.141407Z"
    },
    "papermill": {
     "duration": 0.214113,
     "end_time": "2023-06-23T13:34:41.145344",
     "exception": false,
     "start_time": "2023-06-23T13:34:40.931231",
     "status": "completed"
    },
    "tags": []
   },
   "outputs": [
    {
     "name": "stdout",
     "output_type": "stream",
     "text": [
      "Resolve hyper-parameter template \"benchmark_rank1\" to \"benchmark_rank1@v1\" -> {'winner_take_all': True, 'categorical_algorithm': 'RANDOM', 'split_axis': 'SPARSE_OBLIQUE', 'sparse_oblique_normalization': 'MIN_MAX', 'sparse_oblique_num_projections_exponent': 1.0}.\n",
      "Use /tmp/tmpmeuf890_ as temporary training directory\n"
     ]
    }
   ],
   "source": [
    "rfm = tfdf.keras.RandomForestModel(hyperparameter_template=\"benchmark_rank1\")"
   ]
  },
  {
   "cell_type": "markdown",
   "id": "cf279666",
   "metadata": {
    "papermill": {
     "duration": 0.015815,
     "end_time": "2023-06-23T13:34:41.177948",
     "exception": false,
     "start_time": "2023-06-23T13:34:41.162133",
     "status": "completed"
    },
    "tags": []
   },
   "source": [
    "# Training"
   ]
  },
  {
   "cell_type": "code",
   "execution_count": 12,
   "id": "f8b32a98",
   "metadata": {
    "execution": {
     "iopub.execute_input": "2023-06-23T13:34:41.213765Z",
     "iopub.status.busy": "2023-06-23T13:34:41.212513Z",
     "iopub.status.idle": "2023-06-23T13:46:09.598619Z",
     "shell.execute_reply": "2023-06-23T13:46:09.597375Z"
    },
    "papermill": {
     "duration": 688.407467,
     "end_time": "2023-06-23T13:46:09.601933",
     "exception": false,
     "start_time": "2023-06-23T13:34:41.194466",
     "status": "completed"
    },
    "tags": []
   },
   "outputs": [
    {
     "name": "stdout",
     "output_type": "stream",
     "text": [
      "### q_no 1 grp 0-4\n"
     ]
    },
    {
     "name": "stderr",
     "output_type": "stream",
     "text": [
      "/tmp/ipykernel_18/3845953874.py:43: SettingWithCopyWarning: \n",
      "A value is trying to be set on a copy of a slice from a DataFrame.\n",
      "Try using .loc[row_indexer,col_indexer] = value instead\n",
      "\n",
      "See the caveats in the documentation: https://pandas.pydata.org/pandas-docs/stable/user_guide/indexing.html#returning-a-view-versus-a-copy\n",
      "  train_df[\"correct\"] = train_labels[\"correct\"]\n",
      "/tmp/ipykernel_18/3845953874.py:44: SettingWithCopyWarning: \n",
      "A value is trying to be set on a copy of a slice from a DataFrame.\n",
      "Try using .loc[row_indexer,col_indexer] = value instead\n",
      "\n",
      "See the caveats in the documentation: https://pandas.pydata.org/pandas-docs/stable/user_guide/indexing.html#returning-a-view-versus-a-copy\n",
      "  valid_df[\"correct\"] = valid_labels[\"correct\"]\n"
     ]
    },
    {
     "name": "stdout",
     "output_type": "stream",
     "text": [
      "Use /tmp/tmp14mf8xs7 as temporary training directory\n",
      "Reading training dataset...\n",
      "Training dataset read in 0:00:07.811524. Found 18849 examples.\n",
      "Training model...\n"
     ]
    },
    {
     "name": "stderr",
     "output_type": "stream",
     "text": [
      "[INFO 23-06-23 13:35:13.3443 UTC kernel.cc:1242] Loading model from path /tmp/tmp14mf8xs7/model/ with prefix 01aacb2d423b4d22\n"
     ]
    },
    {
     "name": "stdout",
     "output_type": "stream",
     "text": [
      "Model trained in 0:00:24.691485\n",
      "Compiling model...\n"
     ]
    },
    {
     "name": "stderr",
     "output_type": "stream",
     "text": [
      "[INFO 23-06-23 13:35:14.1183 UTC decision_forest.cc:660] Model loaded with 1000 root(s), 189172 node(s), and 21 input feature(s).\n",
      "[INFO 23-06-23 13:35:14.1183 UTC abstract_model.cc:1311] Engine \"RandomForestOptPred\" built\n",
      "[INFO 23-06-23 13:35:14.1184 UTC kernel.cc:1074] Use fast generic engine\n"
     ]
    },
    {
     "name": "stdout",
     "output_type": "stream",
     "text": [
      "WARNING: AutoGraph could not transform <function simple_ml_inference_op_with_handle at 0x7fa265561b40> and will run it as-is.\n",
      "Please report this to the TensorFlow team. When filing the bug, set the verbosity to 10 (on Linux, `export AUTOGRAPH_VERBOSITY=10`) and attach the full output.\n",
      "Cause: could not get source code\n",
      "To silence this warning, decorate the function with @tf.autograph.experimental.do_not_convert\n",
      "Model compiled.\n",
      "5/5 [==============================] - 1s 45ms/step - loss: 0.0000e+00 - accuracy: 0.7316\n",
      "5/5 [==============================] - 0s 41ms/step\n",
      "### q_no 2 grp 0-4\n",
      "Use /tmp/tmpv62trlr1 as temporary training directory\n",
      "Reading training dataset...\n"
     ]
    },
    {
     "name": "stderr",
     "output_type": "stream",
     "text": [
      "/tmp/ipykernel_18/3845953874.py:43: SettingWithCopyWarning: \n",
      "A value is trying to be set on a copy of a slice from a DataFrame.\n",
      "Try using .loc[row_indexer,col_indexer] = value instead\n",
      "\n",
      "See the caveats in the documentation: https://pandas.pydata.org/pandas-docs/stable/user_guide/indexing.html#returning-a-view-versus-a-copy\n",
      "  train_df[\"correct\"] = train_labels[\"correct\"]\n",
      "/tmp/ipykernel_18/3845953874.py:44: SettingWithCopyWarning: \n",
      "A value is trying to be set on a copy of a slice from a DataFrame.\n",
      "Try using .loc[row_indexer,col_indexer] = value instead\n",
      "\n",
      "See the caveats in the documentation: https://pandas.pydata.org/pandas-docs/stable/user_guide/indexing.html#returning-a-view-versus-a-copy\n",
      "  valid_df[\"correct\"] = valid_labels[\"correct\"]\n"
     ]
    },
    {
     "name": "stdout",
     "output_type": "stream",
     "text": [
      "Training dataset read in 0:00:00.741553. Found 18849 examples.\n",
      "Training model...\n"
     ]
    },
    {
     "name": "stderr",
     "output_type": "stream",
     "text": [
      "[INFO 23-06-23 13:35:52.3158 UTC kernel.cc:1242] Loading model from path /tmp/tmpv62trlr1/model/ with prefix d488d81f97e74cac\n"
     ]
    },
    {
     "name": "stdout",
     "output_type": "stream",
     "text": [
      "Model trained in 0:00:20.713049\n",
      "Compiling model...\n"
     ]
    },
    {
     "name": "stderr",
     "output_type": "stream",
     "text": [
      "[INFO 23-06-23 13:35:52.8398 UTC decision_forest.cc:660] Model loaded with 1000 root(s), 130098 node(s), and 21 input feature(s).\n",
      "[INFO 23-06-23 13:35:52.8401 UTC abstract_model.cc:1311] Engine \"RandomForestOptPred\" built\n",
      "[INFO 23-06-23 13:35:52.8403 UTC kernel.cc:1074] Use fast generic engine\n"
     ]
    },
    {
     "name": "stdout",
     "output_type": "stream",
     "text": [
      "Model compiled.\n",
      "5/5 [==============================] - 0s 42ms/step - loss: 0.0000e+00 - accuracy: 0.9756\n",
      "5/5 [==============================] - 0s 42ms/step\n",
      "### q_no 3 grp 0-4\n",
      "Use /tmp/tmp85l_1465 as temporary training directory\n",
      "Reading training dataset...\n"
     ]
    },
    {
     "name": "stderr",
     "output_type": "stream",
     "text": [
      "/tmp/ipykernel_18/3845953874.py:43: SettingWithCopyWarning: \n",
      "A value is trying to be set on a copy of a slice from a DataFrame.\n",
      "Try using .loc[row_indexer,col_indexer] = value instead\n",
      "\n",
      "See the caveats in the documentation: https://pandas.pydata.org/pandas-docs/stable/user_guide/indexing.html#returning-a-view-versus-a-copy\n",
      "  train_df[\"correct\"] = train_labels[\"correct\"]\n",
      "/tmp/ipykernel_18/3845953874.py:44: SettingWithCopyWarning: \n",
      "A value is trying to be set on a copy of a slice from a DataFrame.\n",
      "Try using .loc[row_indexer,col_indexer] = value instead\n",
      "\n",
      "See the caveats in the documentation: https://pandas.pydata.org/pandas-docs/stable/user_guide/indexing.html#returning-a-view-versus-a-copy\n",
      "  valid_df[\"correct\"] = valid_labels[\"correct\"]\n"
     ]
    },
    {
     "name": "stdout",
     "output_type": "stream",
     "text": [
      "Training dataset read in 0:00:00.706579. Found 18849 examples.\n",
      "Training model...\n"
     ]
    },
    {
     "name": "stderr",
     "output_type": "stream",
     "text": [
      "[INFO 23-06-23 13:36:35.6165 UTC kernel.cc:1242] Loading model from path /tmp/tmp85l_1465/model/ with prefix 2b34945e3fea4bfe\n"
     ]
    },
    {
     "name": "stdout",
     "output_type": "stream",
     "text": [
      "Model trained in 0:00:21.948543\n",
      "Compiling model...\n"
     ]
    },
    {
     "name": "stderr",
     "output_type": "stream",
     "text": [
      "[INFO 23-06-23 13:36:36.2776 UTC decision_forest.cc:660] Model loaded with 1000 root(s), 165336 node(s), and 21 input feature(s).\n",
      "[INFO 23-06-23 13:36:36.2779 UTC abstract_model.cc:1311] Engine \"RandomForestOptPred\" built\n",
      "[INFO 23-06-23 13:36:36.2779 UTC kernel.cc:1074] Use fast generic engine\n"
     ]
    },
    {
     "name": "stdout",
     "output_type": "stream",
     "text": [
      "Model compiled.\n",
      "5/5 [==============================] - 0s 44ms/step - loss: 0.0000e+00 - accuracy: 0.9351\n",
      "5/5 [==============================] - 0s 42ms/step\n",
      "### q_no 4 grp 5-12\n",
      "Use /tmp/tmpy1bhk8i1 as temporary training directory\n",
      "Reading training dataset...\n"
     ]
    },
    {
     "name": "stderr",
     "output_type": "stream",
     "text": [
      "/tmp/ipykernel_18/3845953874.py:43: SettingWithCopyWarning: \n",
      "A value is trying to be set on a copy of a slice from a DataFrame.\n",
      "Try using .loc[row_indexer,col_indexer] = value instead\n",
      "\n",
      "See the caveats in the documentation: https://pandas.pydata.org/pandas-docs/stable/user_guide/indexing.html#returning-a-view-versus-a-copy\n",
      "  train_df[\"correct\"] = train_labels[\"correct\"]\n",
      "/tmp/ipykernel_18/3845953874.py:44: SettingWithCopyWarning: \n",
      "A value is trying to be set on a copy of a slice from a DataFrame.\n",
      "Try using .loc[row_indexer,col_indexer] = value instead\n",
      "\n",
      "See the caveats in the documentation: https://pandas.pydata.org/pandas-docs/stable/user_guide/indexing.html#returning-a-view-versus-a-copy\n",
      "  valid_df[\"correct\"] = valid_labels[\"correct\"]\n"
     ]
    },
    {
     "name": "stdout",
     "output_type": "stream",
     "text": [
      "Training dataset read in 0:00:00.711975. Found 18849 examples.\n",
      "Training model...\n"
     ]
    },
    {
     "name": "stderr",
     "output_type": "stream",
     "text": [
      "[INFO 23-06-23 13:37:19.7688 UTC kernel.cc:1242] Loading model from path /tmp/tmpy1bhk8i1/model/ with prefix 1286545edc6d4c23\n"
     ]
    },
    {
     "name": "stdout",
     "output_type": "stream",
     "text": [
      "Model trained in 0:00:24.017928\n",
      "Compiling model...\n"
     ]
    },
    {
     "name": "stderr",
     "output_type": "stream",
     "text": [
      "[INFO 23-06-23 13:37:20.5950 UTC decision_forest.cc:660] Model loaded with 1000 root(s), 206762 node(s), and 21 input feature(s).\n",
      "[INFO 23-06-23 13:37:20.5950 UTC abstract_model.cc:1311] Engine \"RandomForestOptPred\" built\n",
      "[INFO 23-06-23 13:37:20.5950 UTC kernel.cc:1074] Use fast generic engine\n"
     ]
    },
    {
     "name": "stdout",
     "output_type": "stream",
     "text": [
      "Model compiled.\n",
      "5/5 [==============================] - 0s 44ms/step - loss: 0.0000e+00 - accuracy: 0.7935\n",
      "5/5 [==============================] - 0s 42ms/step\n",
      "### q_no 5 grp 5-12\n",
      "Use /tmp/tmp43girs8u as temporary training directory\n",
      "Reading training dataset...\n"
     ]
    },
    {
     "name": "stderr",
     "output_type": "stream",
     "text": [
      "/tmp/ipykernel_18/3845953874.py:43: SettingWithCopyWarning: \n",
      "A value is trying to be set on a copy of a slice from a DataFrame.\n",
      "Try using .loc[row_indexer,col_indexer] = value instead\n",
      "\n",
      "See the caveats in the documentation: https://pandas.pydata.org/pandas-docs/stable/user_guide/indexing.html#returning-a-view-versus-a-copy\n",
      "  train_df[\"correct\"] = train_labels[\"correct\"]\n",
      "/tmp/ipykernel_18/3845953874.py:44: SettingWithCopyWarning: \n",
      "A value is trying to be set on a copy of a slice from a DataFrame.\n",
      "Try using .loc[row_indexer,col_indexer] = value instead\n",
      "\n",
      "See the caveats in the documentation: https://pandas.pydata.org/pandas-docs/stable/user_guide/indexing.html#returning-a-view-versus-a-copy\n",
      "  valid_df[\"correct\"] = valid_labels[\"correct\"]\n"
     ]
    },
    {
     "name": "stdout",
     "output_type": "stream",
     "text": [
      "Training dataset read in 0:00:00.716845. Found 18849 examples.\n",
      "Training model...\n"
     ]
    },
    {
     "name": "stderr",
     "output_type": "stream",
     "text": [
      "[INFO 23-06-23 13:38:02.6757 UTC kernel.cc:1242] Loading model from path /tmp/tmp43girs8u/model/ with prefix 6d592e1164574a3a\n"
     ]
    },
    {
     "name": "stdout",
     "output_type": "stream",
     "text": [
      "Model trained in 0:00:24.625246\n",
      "Compiling model...\n"
     ]
    },
    {
     "name": "stderr",
     "output_type": "stream",
     "text": [
      "[INFO 23-06-23 13:38:03.5155 UTC decision_forest.cc:660] Model loaded with 1000 root(s), 207696 node(s), and 21 input feature(s).\n",
      "[INFO 23-06-23 13:38:03.5155 UTC abstract_model.cc:1311] Engine \"RandomForestOptPred\" built\n",
      "[INFO 23-06-23 13:38:03.5156 UTC kernel.cc:1074] Use fast generic engine\n"
     ]
    },
    {
     "name": "stdout",
     "output_type": "stream",
     "text": [
      "Model compiled.\n",
      "5/5 [==============================] - 0s 45ms/step - loss: 0.0000e+00 - accuracy: 0.6287\n",
      "5/5 [==============================] - 0s 42ms/step\n",
      "### q_no 6 grp 5-12\n",
      "Use /tmp/tmpw6s39__v as temporary training directory\n",
      "Reading training dataset...\n"
     ]
    },
    {
     "name": "stderr",
     "output_type": "stream",
     "text": [
      "/tmp/ipykernel_18/3845953874.py:43: SettingWithCopyWarning: \n",
      "A value is trying to be set on a copy of a slice from a DataFrame.\n",
      "Try using .loc[row_indexer,col_indexer] = value instead\n",
      "\n",
      "See the caveats in the documentation: https://pandas.pydata.org/pandas-docs/stable/user_guide/indexing.html#returning-a-view-versus-a-copy\n",
      "  train_df[\"correct\"] = train_labels[\"correct\"]\n",
      "/tmp/ipykernel_18/3845953874.py:44: SettingWithCopyWarning: \n",
      "A value is trying to be set on a copy of a slice from a DataFrame.\n",
      "Try using .loc[row_indexer,col_indexer] = value instead\n",
      "\n",
      "See the caveats in the documentation: https://pandas.pydata.org/pandas-docs/stable/user_guide/indexing.html#returning-a-view-versus-a-copy\n",
      "  valid_df[\"correct\"] = valid_labels[\"correct\"]\n"
     ]
    },
    {
     "name": "stdout",
     "output_type": "stream",
     "text": [
      "Training dataset read in 0:00:00.724247. Found 18849 examples.\n",
      "Training model...\n"
     ]
    },
    {
     "name": "stderr",
     "output_type": "stream",
     "text": [
      "[INFO 23-06-23 13:38:28.8453 UTC kernel.cc:1242] Loading model from path /tmp/tmpw6s39__v/model/ with prefix 09e27ad88e414ad2\n"
     ]
    },
    {
     "name": "stdout",
     "output_type": "stream",
     "text": [
      "Model trained in 0:00:24.144144\n",
      "Compiling model...\n"
     ]
    },
    {
     "name": "stderr",
     "output_type": "stream",
     "text": [
      "[INFO 23-06-23 13:38:29.7038 UTC decision_forest.cc:660] Model loaded with 1000 root(s), 204086 node(s), and 21 input feature(s).\n",
      "[INFO 23-06-23 13:38:29.7039 UTC abstract_model.cc:1311] Engine \"RandomForestOptPred\" built\n",
      "[INFO 23-06-23 13:38:29.7039 UTC kernel.cc:1074] Use fast generic engine\n"
     ]
    },
    {
     "name": "stdout",
     "output_type": "stream",
     "text": [
      "Model compiled.\n",
      "5/5 [==============================] - 0s 44ms/step - loss: 0.0000e+00 - accuracy: 0.7885\n",
      "5/5 [==============================] - 0s 41ms/step\n",
      "### q_no 7 grp 5-12\n",
      "Use /tmp/tmpfserw353 as temporary training directory\n",
      "Reading training dataset...\n"
     ]
    },
    {
     "name": "stderr",
     "output_type": "stream",
     "text": [
      "/tmp/ipykernel_18/3845953874.py:43: SettingWithCopyWarning: \n",
      "A value is trying to be set on a copy of a slice from a DataFrame.\n",
      "Try using .loc[row_indexer,col_indexer] = value instead\n",
      "\n",
      "See the caveats in the documentation: https://pandas.pydata.org/pandas-docs/stable/user_guide/indexing.html#returning-a-view-versus-a-copy\n",
      "  train_df[\"correct\"] = train_labels[\"correct\"]\n",
      "/tmp/ipykernel_18/3845953874.py:44: SettingWithCopyWarning: \n",
      "A value is trying to be set on a copy of a slice from a DataFrame.\n",
      "Try using .loc[row_indexer,col_indexer] = value instead\n",
      "\n",
      "See the caveats in the documentation: https://pandas.pydata.org/pandas-docs/stable/user_guide/indexing.html#returning-a-view-versus-a-copy\n",
      "  valid_df[\"correct\"] = valid_labels[\"correct\"]\n"
     ]
    },
    {
     "name": "stdout",
     "output_type": "stream",
     "text": [
      "Training dataset read in 0:00:00.689888. Found 18849 examples.\n",
      "Training model...\n"
     ]
    },
    {
     "name": "stderr",
     "output_type": "stream",
     "text": [
      "[INFO 23-06-23 13:39:11.0245 UTC kernel.cc:1242] Loading model from path /tmp/tmpfserw353/model/ with prefix f99c91c3fee54a26\n"
     ]
    },
    {
     "name": "stdout",
     "output_type": "stream",
     "text": [
      "Model trained in 0:00:24.050704\n",
      "Compiling model...\n"
     ]
    },
    {
     "name": "stderr",
     "output_type": "stream",
     "text": [
      "[INFO 23-06-23 13:39:11.8235 UTC decision_forest.cc:660] Model loaded with 1000 root(s), 198988 node(s), and 21 input feature(s).\n",
      "[INFO 23-06-23 13:39:11.8236 UTC abstract_model.cc:1311] Engine \"RandomForestOptPred\" built\n",
      "[INFO 23-06-23 13:39:11.8236 UTC kernel.cc:1074] Use fast generic engine\n"
     ]
    },
    {
     "name": "stdout",
     "output_type": "stream",
     "text": [
      "Model compiled.\n",
      "5/5 [==============================] - 0s 42ms/step - loss: 0.0000e+00 - accuracy: 0.7456\n",
      "5/5 [==============================] - 0s 42ms/step\n",
      "### q_no 8 grp 5-12\n",
      "Use /tmp/tmp50w3a8qd as temporary training directory\n",
      "Reading training dataset...\n"
     ]
    },
    {
     "name": "stderr",
     "output_type": "stream",
     "text": [
      "/tmp/ipykernel_18/3845953874.py:43: SettingWithCopyWarning: \n",
      "A value is trying to be set on a copy of a slice from a DataFrame.\n",
      "Try using .loc[row_indexer,col_indexer] = value instead\n",
      "\n",
      "See the caveats in the documentation: https://pandas.pydata.org/pandas-docs/stable/user_guide/indexing.html#returning-a-view-versus-a-copy\n",
      "  train_df[\"correct\"] = train_labels[\"correct\"]\n",
      "/tmp/ipykernel_18/3845953874.py:44: SettingWithCopyWarning: \n",
      "A value is trying to be set on a copy of a slice from a DataFrame.\n",
      "Try using .loc[row_indexer,col_indexer] = value instead\n",
      "\n",
      "See the caveats in the documentation: https://pandas.pydata.org/pandas-docs/stable/user_guide/indexing.html#returning-a-view-versus-a-copy\n",
      "  valid_df[\"correct\"] = valid_labels[\"correct\"]\n"
     ]
    },
    {
     "name": "stdout",
     "output_type": "stream",
     "text": [
      "Training dataset read in 0:00:01.077258. Found 18849 examples.\n",
      "Training model...\n"
     ]
    },
    {
     "name": "stderr",
     "output_type": "stream",
     "text": [
      "[INFO 23-06-23 13:39:52.3278 UTC kernel.cc:1242] Loading model from path /tmp/tmp50w3a8qd/model/ with prefix 53ad778778f544e4\n"
     ]
    },
    {
     "name": "stdout",
     "output_type": "stream",
     "text": [
      "Model trained in 0:00:22.615747\n",
      "Compiling model...\n"
     ]
    },
    {
     "name": "stderr",
     "output_type": "stream",
     "text": [
      "[INFO 23-06-23 13:39:53.0981 UTC decision_forest.cc:660] Model loaded with 1000 root(s), 177060 node(s), and 21 input feature(s).\n",
      "[INFO 23-06-23 13:39:53.0981 UTC abstract_model.cc:1311] Engine \"RandomForestOptPred\" built\n",
      "[INFO 23-06-23 13:39:53.0981 UTC kernel.cc:1074] Use fast generic engine\n"
     ]
    },
    {
     "name": "stdout",
     "output_type": "stream",
     "text": [
      "Model compiled.\n",
      "5/5 [==============================] - 0s 44ms/step - loss: 0.0000e+00 - accuracy: 0.6367\n",
      "5/5 [==============================] - 0s 41ms/step\n",
      "### q_no 9 grp 5-12\n",
      "Use /tmp/tmpc_6lh730 as temporary training directory\n",
      "Reading training dataset...\n"
     ]
    },
    {
     "name": "stderr",
     "output_type": "stream",
     "text": [
      "/tmp/ipykernel_18/3845953874.py:43: SettingWithCopyWarning: \n",
      "A value is trying to be set on a copy of a slice from a DataFrame.\n",
      "Try using .loc[row_indexer,col_indexer] = value instead\n",
      "\n",
      "See the caveats in the documentation: https://pandas.pydata.org/pandas-docs/stable/user_guide/indexing.html#returning-a-view-versus-a-copy\n",
      "  train_df[\"correct\"] = train_labels[\"correct\"]\n",
      "/tmp/ipykernel_18/3845953874.py:44: SettingWithCopyWarning: \n",
      "A value is trying to be set on a copy of a slice from a DataFrame.\n",
      "Try using .loc[row_indexer,col_indexer] = value instead\n",
      "\n",
      "See the caveats in the documentation: https://pandas.pydata.org/pandas-docs/stable/user_guide/indexing.html#returning-a-view-versus-a-copy\n",
      "  valid_df[\"correct\"] = valid_labels[\"correct\"]\n"
     ]
    },
    {
     "name": "stdout",
     "output_type": "stream",
     "text": [
      "Training dataset read in 0:00:00.740171. Found 18849 examples.\n",
      "Training model...\n"
     ]
    },
    {
     "name": "stderr",
     "output_type": "stream",
     "text": [
      "[INFO 23-06-23 13:40:35.7841 UTC kernel.cc:1242] Loading model from path /tmp/tmpc_6lh730/model/ with prefix 6564488aeb0d494d\n"
     ]
    },
    {
     "name": "stdout",
     "output_type": "stream",
     "text": [
      "Model trained in 0:00:23.808447\n",
      "Compiling model...\n"
     ]
    },
    {
     "name": "stderr",
     "output_type": "stream",
     "text": [
      "[INFO 23-06-23 13:40:36.5706 UTC decision_forest.cc:660] Model loaded with 1000 root(s), 196888 node(s), and 21 input feature(s).\n",
      "[INFO 23-06-23 13:40:36.5708 UTC abstract_model.cc:1311] Engine \"RandomForestOptPred\" built\n",
      "[INFO 23-06-23 13:40:36.5708 UTC kernel.cc:1074] Use fast generic engine\n"
     ]
    },
    {
     "name": "stdout",
     "output_type": "stream",
     "text": [
      "Model compiled.\n",
      "5/5 [==============================] - 0s 44ms/step - loss: 0.0000e+00 - accuracy: 0.7645\n",
      "5/5 [==============================] - 0s 42ms/step\n",
      "### q_no 10 grp 5-12\n",
      "Use /tmp/tmp8je6mzti as temporary training directory\n",
      "Reading training dataset...\n"
     ]
    },
    {
     "name": "stderr",
     "output_type": "stream",
     "text": [
      "/tmp/ipykernel_18/3845953874.py:43: SettingWithCopyWarning: \n",
      "A value is trying to be set on a copy of a slice from a DataFrame.\n",
      "Try using .loc[row_indexer,col_indexer] = value instead\n",
      "\n",
      "See the caveats in the documentation: https://pandas.pydata.org/pandas-docs/stable/user_guide/indexing.html#returning-a-view-versus-a-copy\n",
      "  train_df[\"correct\"] = train_labels[\"correct\"]\n",
      "/tmp/ipykernel_18/3845953874.py:44: SettingWithCopyWarning: \n",
      "A value is trying to be set on a copy of a slice from a DataFrame.\n",
      "Try using .loc[row_indexer,col_indexer] = value instead\n",
      "\n",
      "See the caveats in the documentation: https://pandas.pydata.org/pandas-docs/stable/user_guide/indexing.html#returning-a-view-versus-a-copy\n",
      "  valid_df[\"correct\"] = valid_labels[\"correct\"]\n"
     ]
    },
    {
     "name": "stdout",
     "output_type": "stream",
     "text": [
      "Training dataset read in 0:00:00.703390. Found 18849 examples.\n",
      "Training model...\n"
     ]
    },
    {
     "name": "stderr",
     "output_type": "stream",
     "text": [
      "[INFO 23-06-23 13:41:18.3108 UTC kernel.cc:1242] Loading model from path /tmp/tmp8je6mzti/model/ with prefix e786413bb383451a\n"
     ]
    },
    {
     "name": "stdout",
     "output_type": "stream",
     "text": [
      "Model trained in 0:00:24.116098\n",
      "Compiling model...\n"
     ]
    },
    {
     "name": "stderr",
     "output_type": "stream",
     "text": [
      "[INFO 23-06-23 13:41:19.1004 UTC decision_forest.cc:660] Model loaded with 1000 root(s), 197772 node(s), and 21 input feature(s).\n",
      "[INFO 23-06-23 13:41:19.1005 UTC abstract_model.cc:1311] Engine \"RandomForestOptPred\" built\n",
      "[INFO 23-06-23 13:41:19.1005 UTC kernel.cc:1074] Use fast generic engine\n"
     ]
    },
    {
     "name": "stdout",
     "output_type": "stream",
     "text": [
      "Model compiled.\n",
      "5/5 [==============================] - 0s 46ms/step - loss: 0.0000e+00 - accuracy: 0.6049\n",
      "5/5 [==============================] - 0s 42ms/step\n",
      "### q_no 11 grp 5-12\n",
      "Use /tmp/tmp472revcp as temporary training directory\n",
      "Reading training dataset...\n"
     ]
    },
    {
     "name": "stderr",
     "output_type": "stream",
     "text": [
      "/tmp/ipykernel_18/3845953874.py:43: SettingWithCopyWarning: \n",
      "A value is trying to be set on a copy of a slice from a DataFrame.\n",
      "Try using .loc[row_indexer,col_indexer] = value instead\n",
      "\n",
      "See the caveats in the documentation: https://pandas.pydata.org/pandas-docs/stable/user_guide/indexing.html#returning-a-view-versus-a-copy\n",
      "  train_df[\"correct\"] = train_labels[\"correct\"]\n",
      "/tmp/ipykernel_18/3845953874.py:44: SettingWithCopyWarning: \n",
      "A value is trying to be set on a copy of a slice from a DataFrame.\n",
      "Try using .loc[row_indexer,col_indexer] = value instead\n",
      "\n",
      "See the caveats in the documentation: https://pandas.pydata.org/pandas-docs/stable/user_guide/indexing.html#returning-a-view-versus-a-copy\n",
      "  valid_df[\"correct\"] = valid_labels[\"correct\"]\n"
     ]
    },
    {
     "name": "stdout",
     "output_type": "stream",
     "text": [
      "Training dataset read in 0:00:00.718355. Found 18849 examples.\n",
      "Training model...\n"
     ]
    },
    {
     "name": "stderr",
     "output_type": "stream",
     "text": [
      "[INFO 23-06-23 13:41:43.5095 UTC kernel.cc:1242] Loading model from path /tmp/tmp472revcp/model/ with prefix e1d04e9c0d98493c\n"
     ]
    },
    {
     "name": "stdout",
     "output_type": "stream",
     "text": [
      "Model trained in 0:00:23.120558\n",
      "Compiling model...\n"
     ]
    },
    {
     "name": "stderr",
     "output_type": "stream",
     "text": [
      "[INFO 23-06-23 13:41:44.2609 UTC decision_forest.cc:660] Model loaded with 1000 root(s), 186142 node(s), and 21 input feature(s).\n",
      "[INFO 23-06-23 13:41:44.2612 UTC abstract_model.cc:1311] Engine \"RandomForestOptPred\" built\n",
      "[INFO 23-06-23 13:41:44.2615 UTC kernel.cc:1074] Use fast generic engine\n"
     ]
    },
    {
     "name": "stdout",
     "output_type": "stream",
     "text": [
      "Model compiled.\n",
      "5/5 [==============================] - 0s 42ms/step - loss: 0.0000e+00 - accuracy: 0.6569\n",
      "5/5 [==============================] - 0s 42ms/step\n",
      "### q_no 12 grp 5-12\n",
      "Use /tmp/tmp4bq8i_hv as temporary training directory\n",
      "Reading training dataset...\n"
     ]
    },
    {
     "name": "stderr",
     "output_type": "stream",
     "text": [
      "/tmp/ipykernel_18/3845953874.py:43: SettingWithCopyWarning: \n",
      "A value is trying to be set on a copy of a slice from a DataFrame.\n",
      "Try using .loc[row_indexer,col_indexer] = value instead\n",
      "\n",
      "See the caveats in the documentation: https://pandas.pydata.org/pandas-docs/stable/user_guide/indexing.html#returning-a-view-versus-a-copy\n",
      "  train_df[\"correct\"] = train_labels[\"correct\"]\n",
      "/tmp/ipykernel_18/3845953874.py:44: SettingWithCopyWarning: \n",
      "A value is trying to be set on a copy of a slice from a DataFrame.\n",
      "Try using .loc[row_indexer,col_indexer] = value instead\n",
      "\n",
      "See the caveats in the documentation: https://pandas.pydata.org/pandas-docs/stable/user_guide/indexing.html#returning-a-view-versus-a-copy\n",
      "  valid_df[\"correct\"] = valid_labels[\"correct\"]\n"
     ]
    },
    {
     "name": "stdout",
     "output_type": "stream",
     "text": [
      "Training dataset read in 0:00:00.717612. Found 18849 examples.\n",
      "Training model...\n"
     ]
    },
    {
     "name": "stderr",
     "output_type": "stream",
     "text": [
      "[INFO 23-06-23 13:42:25.1865 UTC kernel.cc:1242] Loading model from path /tmp/tmp4bq8i_hv/model/ with prefix 885651d3a4344516\n"
     ]
    },
    {
     "name": "stdout",
     "output_type": "stream",
     "text": [
      "Model trained in 0:00:22.445920\n",
      "Compiling model...\n"
     ]
    },
    {
     "name": "stderr",
     "output_type": "stream",
     "text": [
      "[INFO 23-06-23 13:42:25.9094 UTC decision_forest.cc:660] Model loaded with 1000 root(s), 178078 node(s), and 21 input feature(s).\n",
      "[INFO 23-06-23 13:42:25.9095 UTC abstract_model.cc:1311] Engine \"RandomForestOptPred\" built\n",
      "[INFO 23-06-23 13:42:25.9095 UTC kernel.cc:1074] Use fast generic engine\n"
     ]
    },
    {
     "name": "stdout",
     "output_type": "stream",
     "text": [
      "Model compiled.\n",
      "5/5 [==============================] - 0s 42ms/step - loss: 0.0000e+00 - accuracy: 0.8701\n",
      "5/5 [==============================] - 0s 45ms/step\n",
      "### q_no 13 grp 5-12\n",
      "Use /tmp/tmpxt8yn35q as temporary training directory\n",
      "Reading training dataset...\n"
     ]
    },
    {
     "name": "stderr",
     "output_type": "stream",
     "text": [
      "/tmp/ipykernel_18/3845953874.py:43: SettingWithCopyWarning: \n",
      "A value is trying to be set on a copy of a slice from a DataFrame.\n",
      "Try using .loc[row_indexer,col_indexer] = value instead\n",
      "\n",
      "See the caveats in the documentation: https://pandas.pydata.org/pandas-docs/stable/user_guide/indexing.html#returning-a-view-versus-a-copy\n",
      "  train_df[\"correct\"] = train_labels[\"correct\"]\n",
      "/tmp/ipykernel_18/3845953874.py:44: SettingWithCopyWarning: \n",
      "A value is trying to be set on a copy of a slice from a DataFrame.\n",
      "Try using .loc[row_indexer,col_indexer] = value instead\n",
      "\n",
      "See the caveats in the documentation: https://pandas.pydata.org/pandas-docs/stable/user_guide/indexing.html#returning-a-view-versus-a-copy\n",
      "  valid_df[\"correct\"] = valid_labels[\"correct\"]\n"
     ]
    },
    {
     "name": "stdout",
     "output_type": "stream",
     "text": [
      "Training dataset read in 0:00:00.748636. Found 18849 examples.\n",
      "Training model...\n"
     ]
    },
    {
     "name": "stderr",
     "output_type": "stream",
     "text": [
      "[INFO 23-06-23 13:42:50.7606 UTC kernel.cc:1242] Loading model from path /tmp/tmpxt8yn35q/model/ with prefix 53df6a67bdba4162\n"
     ]
    },
    {
     "name": "stdout",
     "output_type": "stream",
     "text": [
      "Model trained in 0:00:23.623389\n",
      "Compiling model...\n"
     ]
    },
    {
     "name": "stderr",
     "output_type": "stream",
     "text": [
      "[INFO 23-06-23 13:42:51.5140 UTC decision_forest.cc:660] Model loaded with 1000 root(s), 189260 node(s), and 21 input feature(s).\n",
      "[INFO 23-06-23 13:42:51.5141 UTC abstract_model.cc:1311] Engine \"RandomForestOptPred\" built\n",
      "[INFO 23-06-23 13:42:51.5141 UTC kernel.cc:1074] Use fast generic engine\n"
     ]
    },
    {
     "name": "stdout",
     "output_type": "stream",
     "text": [
      "Model compiled.\n",
      "5/5 [==============================] - 0s 43ms/step - loss: 0.0000e+00 - accuracy: 0.7187\n",
      "5/5 [==============================] - 0s 43ms/step\n",
      "### q_no 14 grp 13-22\n",
      "Use /tmp/tmpjd7g1fyc as temporary training directory\n",
      "Reading training dataset...\n"
     ]
    },
    {
     "name": "stderr",
     "output_type": "stream",
     "text": [
      "/tmp/ipykernel_18/3845953874.py:43: SettingWithCopyWarning: \n",
      "A value is trying to be set on a copy of a slice from a DataFrame.\n",
      "Try using .loc[row_indexer,col_indexer] = value instead\n",
      "\n",
      "See the caveats in the documentation: https://pandas.pydata.org/pandas-docs/stable/user_guide/indexing.html#returning-a-view-versus-a-copy\n",
      "  train_df[\"correct\"] = train_labels[\"correct\"]\n",
      "/tmp/ipykernel_18/3845953874.py:44: SettingWithCopyWarning: \n",
      "A value is trying to be set on a copy of a slice from a DataFrame.\n",
      "Try using .loc[row_indexer,col_indexer] = value instead\n",
      "\n",
      "See the caveats in the documentation: https://pandas.pydata.org/pandas-docs/stable/user_guide/indexing.html#returning-a-view-versus-a-copy\n",
      "  valid_df[\"correct\"] = valid_labels[\"correct\"]\n"
     ]
    },
    {
     "name": "stdout",
     "output_type": "stream",
     "text": [
      "Training dataset read in 0:00:00.715225. Found 18849 examples.\n",
      "Training model...\n"
     ]
    },
    {
     "name": "stderr",
     "output_type": "stream",
     "text": [
      "[INFO 23-06-23 13:43:17.1861 UTC kernel.cc:1242] Loading model from path /tmp/tmpjd7g1fyc/model/ with prefix 48f09adf9f694277\n"
     ]
    },
    {
     "name": "stdout",
     "output_type": "stream",
     "text": [
      "Model trained in 0:00:24.522500\n",
      "Compiling model...\n"
     ]
    },
    {
     "name": "stderr",
     "output_type": "stream",
     "text": [
      "[INFO 23-06-23 13:43:18.0026 UTC decision_forest.cc:660] Model loaded with 1000 root(s), 201614 node(s), and 21 input feature(s).\n",
      "[INFO 23-06-23 13:43:18.0027 UTC abstract_model.cc:1311] Engine \"RandomForestOptPred\" built\n",
      "[INFO 23-06-23 13:43:18.0027 UTC kernel.cc:1074] Use fast generic engine\n"
     ]
    },
    {
     "name": "stdout",
     "output_type": "stream",
     "text": [
      "Model compiled.\n",
      "5/5 [==============================] - 0s 44ms/step - loss: 0.0000e+00 - accuracy: 0.7365\n",
      "5/5 [==============================] - 0s 43ms/step\n",
      "### q_no 15 grp 13-22\n",
      "Use /tmp/tmp0rr_no3c as temporary training directory\n",
      "Reading training dataset...\n"
     ]
    },
    {
     "name": "stderr",
     "output_type": "stream",
     "text": [
      "/tmp/ipykernel_18/3845953874.py:43: SettingWithCopyWarning: \n",
      "A value is trying to be set on a copy of a slice from a DataFrame.\n",
      "Try using .loc[row_indexer,col_indexer] = value instead\n",
      "\n",
      "See the caveats in the documentation: https://pandas.pydata.org/pandas-docs/stable/user_guide/indexing.html#returning-a-view-versus-a-copy\n",
      "  train_df[\"correct\"] = train_labels[\"correct\"]\n",
      "/tmp/ipykernel_18/3845953874.py:44: SettingWithCopyWarning: \n",
      "A value is trying to be set on a copy of a slice from a DataFrame.\n",
      "Try using .loc[row_indexer,col_indexer] = value instead\n",
      "\n",
      "See the caveats in the documentation: https://pandas.pydata.org/pandas-docs/stable/user_guide/indexing.html#returning-a-view-versus-a-copy\n",
      "  valid_df[\"correct\"] = valid_labels[\"correct\"]\n"
     ]
    },
    {
     "name": "stdout",
     "output_type": "stream",
     "text": [
      "Training dataset read in 0:00:00.738249. Found 18849 examples.\n",
      "Training model...\n"
     ]
    },
    {
     "name": "stderr",
     "output_type": "stream",
     "text": [
      "[INFO 23-06-23 13:43:43.8389 UTC kernel.cc:1242] Loading model from path /tmp/tmp0rr_no3c/model/ with prefix c6ddacafcda842f3\n"
     ]
    },
    {
     "name": "stdout",
     "output_type": "stream",
     "text": [
      "Model trained in 0:00:24.589009\n",
      "Compiling model...\n"
     ]
    },
    {
     "name": "stderr",
     "output_type": "stream",
     "text": [
      "[INFO 23-06-23 13:43:44.6598 UTC decision_forest.cc:660] Model loaded with 1000 root(s), 204180 node(s), and 21 input feature(s).\n",
      "[INFO 23-06-23 13:43:44.6599 UTC abstract_model.cc:1311] Engine \"RandomForestOptPred\" built\n",
      "[INFO 23-06-23 13:43:44.6599 UTC kernel.cc:1074] Use fast generic engine\n"
     ]
    },
    {
     "name": "stdout",
     "output_type": "stream",
     "text": [
      "Model compiled.\n",
      "5/5 [==============================] - 1s 70ms/step - loss: 0.0000e+00 - accuracy: 0.5994\n",
      "5/5 [==============================] - 0s 57ms/step\n",
      "### q_no 16 grp 13-22\n",
      "Use /tmp/tmp34m52gj6 as temporary training directory\n",
      "Reading training dataset...\n"
     ]
    },
    {
     "name": "stderr",
     "output_type": "stream",
     "text": [
      "/tmp/ipykernel_18/3845953874.py:43: SettingWithCopyWarning: \n",
      "A value is trying to be set on a copy of a slice from a DataFrame.\n",
      "Try using .loc[row_indexer,col_indexer] = value instead\n",
      "\n",
      "See the caveats in the documentation: https://pandas.pydata.org/pandas-docs/stable/user_guide/indexing.html#returning-a-view-versus-a-copy\n",
      "  train_df[\"correct\"] = train_labels[\"correct\"]\n",
      "/tmp/ipykernel_18/3845953874.py:44: SettingWithCopyWarning: \n",
      "A value is trying to be set on a copy of a slice from a DataFrame.\n",
      "Try using .loc[row_indexer,col_indexer] = value instead\n",
      "\n",
      "See the caveats in the documentation: https://pandas.pydata.org/pandas-docs/stable/user_guide/indexing.html#returning-a-view-versus-a-copy\n",
      "  valid_df[\"correct\"] = valid_labels[\"correct\"]\n"
     ]
    },
    {
     "name": "stdout",
     "output_type": "stream",
     "text": [
      "Training dataset read in 0:00:01.042989. Found 18849 examples.\n",
      "Training model...\n"
     ]
    },
    {
     "name": "stderr",
     "output_type": "stream",
     "text": [
      "[INFO 23-06-23 13:44:25.6337 UTC kernel.cc:1242] Loading model from path /tmp/tmp34m52gj6/model/ with prefix df4ce9dc7e44471c\n"
     ]
    },
    {
     "name": "stdout",
     "output_type": "stream",
     "text": [
      "Model trained in 0:00:22.706978\n",
      "Compiling model...\n"
     ]
    },
    {
     "name": "stderr",
     "output_type": "stream",
     "text": [
      "[INFO 23-06-23 13:44:26.2234 UTC decision_forest.cc:660] Model loaded with 1000 root(s), 144116 node(s), and 21 input feature(s).\n",
      "[INFO 23-06-23 13:44:26.2234 UTC abstract_model.cc:1311] Engine \"RandomForestOptPred\" built\n",
      "[INFO 23-06-23 13:44:26.2235 UTC kernel.cc:1074] Use fast generic engine\n"
     ]
    },
    {
     "name": "stdout",
     "output_type": "stream",
     "text": [
      "Model compiled.\n",
      "5/5 [==============================] - 0s 46ms/step - loss: 0.0000e+00 - accuracy: 0.7492\n",
      "5/5 [==============================] - 0s 41ms/step\n",
      "### q_no 17 grp 13-22\n",
      "Use /tmp/tmpklqvmrl5 as temporary training directory\n",
      "Reading training dataset...\n"
     ]
    },
    {
     "name": "stderr",
     "output_type": "stream",
     "text": [
      "/tmp/ipykernel_18/3845953874.py:43: SettingWithCopyWarning: \n",
      "A value is trying to be set on a copy of a slice from a DataFrame.\n",
      "Try using .loc[row_indexer,col_indexer] = value instead\n",
      "\n",
      "See the caveats in the documentation: https://pandas.pydata.org/pandas-docs/stable/user_guide/indexing.html#returning-a-view-versus-a-copy\n",
      "  train_df[\"correct\"] = train_labels[\"correct\"]\n",
      "/tmp/ipykernel_18/3845953874.py:44: SettingWithCopyWarning: \n",
      "A value is trying to be set on a copy of a slice from a DataFrame.\n",
      "Try using .loc[row_indexer,col_indexer] = value instead\n",
      "\n",
      "See the caveats in the documentation: https://pandas.pydata.org/pandas-docs/stable/user_guide/indexing.html#returning-a-view-versus-a-copy\n",
      "  valid_df[\"correct\"] = valid_labels[\"correct\"]\n"
     ]
    },
    {
     "name": "stdout",
     "output_type": "stream",
     "text": [
      "Training dataset read in 0:00:00.719508. Found 18849 examples.\n",
      "Training model...\n"
     ]
    },
    {
     "name": "stderr",
     "output_type": "stream",
     "text": [
      "[INFO 23-06-23 13:45:07.7880 UTC kernel.cc:1242] Loading model from path /tmp/tmpklqvmrl5/model/ with prefix 9568dc640257443f\n"
     ]
    },
    {
     "name": "stdout",
     "output_type": "stream",
     "text": [
      "Model trained in 0:00:22.683099\n",
      "Compiling model...\n"
     ]
    },
    {
     "name": "stderr",
     "output_type": "stream",
     "text": [
      "[INFO 23-06-23 13:45:08.4751 UTC decision_forest.cc:660] Model loaded with 1000 root(s), 167372 node(s), and 21 input feature(s).\n",
      "[INFO 23-06-23 13:45:08.4752 UTC abstract_model.cc:1311] Engine \"RandomForestOptPred\" built\n",
      "[INFO 23-06-23 13:45:08.4752 UTC kernel.cc:1074] Use fast generic engine\n"
     ]
    },
    {
     "name": "stdout",
     "output_type": "stream",
     "text": [
      "Model compiled.\n",
      "5/5 [==============================] - 0s 43ms/step - loss: 0.0000e+00 - accuracy: 0.7036\n",
      "5/5 [==============================] - 0s 41ms/step\n",
      "### q_no 18 grp 13-22\n",
      "Use /tmp/tmpem3i4fuq as temporary training directory\n",
      "Reading training dataset...\n"
     ]
    },
    {
     "name": "stderr",
     "output_type": "stream",
     "text": [
      "/tmp/ipykernel_18/3845953874.py:43: SettingWithCopyWarning: \n",
      "A value is trying to be set on a copy of a slice from a DataFrame.\n",
      "Try using .loc[row_indexer,col_indexer] = value instead\n",
      "\n",
      "See the caveats in the documentation: https://pandas.pydata.org/pandas-docs/stable/user_guide/indexing.html#returning-a-view-versus-a-copy\n",
      "  train_df[\"correct\"] = train_labels[\"correct\"]\n",
      "/tmp/ipykernel_18/3845953874.py:44: SettingWithCopyWarning: \n",
      "A value is trying to be set on a copy of a slice from a DataFrame.\n",
      "Try using .loc[row_indexer,col_indexer] = value instead\n",
      "\n",
      "See the caveats in the documentation: https://pandas.pydata.org/pandas-docs/stable/user_guide/indexing.html#returning-a-view-versus-a-copy\n",
      "  valid_df[\"correct\"] = valid_labels[\"correct\"]\n"
     ]
    },
    {
     "name": "stdout",
     "output_type": "stream",
     "text": [
      "Training dataset read in 0:00:00.718144. Found 18849 examples.\n",
      "Training model...\n"
     ]
    },
    {
     "name": "stderr",
     "output_type": "stream",
     "text": [
      "[INFO 23-06-23 13:45:50.7058 UTC kernel.cc:1242] Loading model from path /tmp/tmpem3i4fuq/model/ with prefix 918cbe70189c4873\n"
     ]
    },
    {
     "name": "stdout",
     "output_type": "stream",
     "text": [
      "Model trained in 0:00:23.237451\n",
      "Compiling model...\n"
     ]
    },
    {
     "name": "stderr",
     "output_type": "stream",
     "text": [
      "[INFO 23-06-23 13:45:51.3737 UTC decision_forest.cc:660] Model loaded with 1000 root(s), 167294 node(s), and 21 input feature(s).\n",
      "[INFO 23-06-23 13:45:51.3738 UTC abstract_model.cc:1311] Engine \"RandomForestOptPred\" built\n",
      "[INFO 23-06-23 13:45:51.3738 UTC kernel.cc:1074] Use fast generic engine\n"
     ]
    },
    {
     "name": "stdout",
     "output_type": "stream",
     "text": [
      "Model compiled.\n",
      "5/5 [==============================] - 0s 48ms/step - loss: 0.0000e+00 - accuracy: 0.9516\n",
      "5/5 [==============================] - 0s 50ms/step\n"
     ]
    }
   ],
   "source": [
    "# Fetch the unique list of user sessions in the validation dataset. We assigned \n",
    "# `session_id` as the index of our feature engineered dataset. Hence fetching \n",
    "# the unique values in the index column will give us a list of users in the \n",
    "# validation set.\n",
    "VALID_USER_LIST = valid_x.index.unique()\n",
    "\n",
    "# Create a dataframe for storing the predictions of each question for all users\n",
    "# in the validation set.\n",
    "# For this, the required size of the data frame is: \n",
    "# (no: of users in validation set  x no of questions).\n",
    "# We will initialize all the predicted values in the data frame to zero.\n",
    "# The dataframe's index column is the user `session_id`s. \n",
    "prediction_df = pd.DataFrame(data=np.zeros((len(VALID_USER_LIST),18)), index=VALID_USER_LIST)\n",
    "\n",
    "# Create an empty dictionary to store the models created for each question.\n",
    "models = {}\n",
    "\n",
    "# Create an empty dictionary to store the evaluation score for each question.\n",
    "evaluation_dict ={}\n",
    "\n",
    "# Iterate through questions 1 to 18 to train models for each question, evaluate\n",
    "# the trained model and store the predicted values.\n",
    "for q_no in range(1,19):\n",
    "\n",
    "    # Select level group for the question based on the q_no.\n",
    "    if q_no<=3: grp = '0-4'\n",
    "    elif q_no<=13: grp = '5-12'\n",
    "    elif q_no<=22: grp = '13-22'\n",
    "    print(\"### q_no\", q_no, \"grp\", grp)\n",
    "    \n",
    "        \n",
    "    # Filter the rows in the datasets based on the selected level group. \n",
    "    train_df = train_x.loc[train_x.level_group == grp]\n",
    "    train_users = train_df.index.values\n",
    "    valid_df = valid_x.loc[valid_x.level_group == grp]\n",
    "    valid_users = valid_df.index.values\n",
    "\n",
    "    # Select the labels for the related q_no.\n",
    "    train_labels = label.loc[label.q==q_no].set_index('session').loc[train_users]\n",
    "    valid_labels = label.loc[label.q==q_no].set_index('session').loc[valid_users]\n",
    "\n",
    "    # Add the label to the filtered datasets.\n",
    "    train_df[\"correct\"] = train_labels[\"correct\"]\n",
    "    valid_df[\"correct\"] = valid_labels[\"correct\"]\n",
    "\n",
    "    # There's one more step required before we can train the model. \n",
    "    # We need to convert the datatset from Pandas format (pd.DataFrame)\n",
    "    # into TensorFlow Datasets format (tf.data.Dataset).\n",
    "    # TensorFlow Datasets is a high performance data loading library \n",
    "    # which is helpful when training neural networks with accelerators like GPUs and TPUs.\n",
    "    # We are omitting `level_group`, since it is not needed for training anymore.\n",
    "    train_ds = tfdf.keras.pd_dataframe_to_tf_dataset(train_df.loc[:, train_df.columns != 'level_group'], label=\"correct\")\n",
    "    valid_ds = tfdf.keras.pd_dataframe_to_tf_dataset(valid_df.loc[:, valid_df.columns != 'level_group'], label=\"correct\")\n",
    "\n",
    "    # We will now create the Random Forest Model with default settings. \n",
    "    # By default the model is set to train for a classification task.\n",
    "    rfm = tfdf.keras.RandomForestModel(num_trees = 1000, max_depth = 8)\n",
    "    rfm.compile(metrics=[\"accuracy\"])\n",
    "\n",
    "    # Train the model.\n",
    "    rfm.fit(x=train_ds)\n",
    "\n",
    "    # Store the model\n",
    "    models[f'{grp}_{q_no}'] = rfm\n",
    "\n",
    "    # Evaluate the trained model on the validation dataset and store the \n",
    "    # evaluation accuracy in the `evaluation_dict`.\n",
    "    inspector = rfm.make_inspector()\n",
    "    inspector.evaluation()\n",
    "    evaluation = rfm.evaluate(x=valid_ds,return_dict=True)\n",
    "    evaluation_dict[q_no] = evaluation[\"accuracy\"]         \n",
    "\n",
    "    # Use the trained model to make predictions on the validation dataset and \n",
    "    # store the predicted values in the `prediction_df` dataframe.\n",
    "    predict = rfm.predict(x=valid_ds)\n",
    "    prediction_df.loc[valid_users, q_no-1] = predict.flatten()     "
   ]
  },
  {
   "cell_type": "markdown",
   "id": "6cf98039",
   "metadata": {
    "papermill": {
     "duration": 0.0508,
     "end_time": "2023-06-23T13:46:09.701265",
     "exception": false,
     "start_time": "2023-06-23T13:46:09.650465",
     "status": "completed"
    },
    "tags": []
   },
   "source": [
    "# Periksa Akurasi Model"
   ]
  },
  {
   "cell_type": "code",
   "execution_count": 13,
   "id": "a16a0c30",
   "metadata": {
    "execution": {
     "iopub.execute_input": "2023-06-23T13:46:09.801096Z",
     "iopub.status.busy": "2023-06-23T13:46:09.799498Z",
     "iopub.status.idle": "2023-06-23T13:46:09.807294Z",
     "shell.execute_reply": "2023-06-23T13:46:09.806401Z"
    },
    "papermill": {
     "duration": 0.061612,
     "end_time": "2023-06-23T13:46:09.810275",
     "exception": false,
     "start_time": "2023-06-23T13:46:09.748663",
     "status": "completed"
    },
    "tags": []
   },
   "outputs": [
    {
     "name": "stdout",
     "output_type": "stream",
     "text": [
      "question 1: accuracy 0.7316\n",
      "question 2: accuracy 0.9756\n",
      "question 3: accuracy 0.9351\n",
      "question 4: accuracy 0.7935\n",
      "question 5: accuracy 0.6287\n",
      "question 6: accuracy 0.7885\n",
      "question 7: accuracy 0.7456\n",
      "question 8: accuracy 0.6367\n",
      "question 9: accuracy 0.7645\n",
      "question 10: accuracy 0.6049\n",
      "question 11: accuracy 0.6569\n",
      "question 12: accuracy 0.8701\n",
      "question 13: accuracy 0.7187\n",
      "question 14: accuracy 0.7365\n",
      "question 15: accuracy 0.5994\n",
      "question 16: accuracy 0.7492\n",
      "question 17: accuracy 0.7036\n",
      "question 18: accuracy 0.9516\n",
      "\n",
      "Average accuracy 0.7550392482015822\n"
     ]
    }
   ],
   "source": [
    "for name, value in evaluation_dict.items():\n",
    "  print(f\"question {name}: accuracy {value:.4f}\")\n",
    "\n",
    "print(\"\\nAverage accuracy\", sum(evaluation_dict.values())/18)"
   ]
  },
  {
   "cell_type": "markdown",
   "id": "74cd82c3",
   "metadata": {
    "papermill": {
     "duration": 0.047404,
     "end_time": "2023-06-23T13:46:09.905852",
     "exception": false,
     "start_time": "2023-06-23T13:46:09.858448",
     "status": "completed"
    },
    "tags": []
   },
   "source": [
    "# Visualisasi"
   ]
  },
  {
   "cell_type": "code",
   "execution_count": 14,
   "id": "5a4671f6",
   "metadata": {
    "execution": {
     "iopub.execute_input": "2023-06-23T13:46:10.004273Z",
     "iopub.status.busy": "2023-06-23T13:46:10.003430Z",
     "iopub.status.idle": "2023-06-23T13:46:10.025619Z",
     "shell.execute_reply": "2023-06-23T13:46:10.024618Z"
    },
    "papermill": {
     "duration": 0.074816,
     "end_time": "2023-06-23T13:46:10.028459",
     "exception": false,
     "start_time": "2023-06-23T13:46:09.953643",
     "status": "completed"
    },
    "tags": []
   },
   "outputs": [
    {
     "data": {
      "text/html": [
       "\n",
       "<script src=\"https://d3js.org/d3.v6.min.js\"></script>\n",
       "<div id=\"tree_plot_d0337cf4eb1e459e85fb6f56e3152e99\"></div>\n",
       "<script>\n",
       "/*\n",
       " * Copyright 2021 Google LLC.\n",
       " * Licensed under the Apache License, Version 2.0 (the \"License\");\n",
       " * you may not use this file except in compliance with the License.\n",
       " * You may obtain a copy of the License at\n",
       " *\n",
       " *     https://www.apache.org/licenses/LICENSE-2.0\n",
       " *\n",
       " * Unless required by applicable law or agreed to in writing, software\n",
       " * distributed under the License is distributed on an \"AS IS\" BASIS,\n",
       " * WITHOUT WARRANTIES OR CONDITIONS OF ANY KIND, either express or implied.\n",
       " * See the License for the specific language governing permissions and\n",
       " * limitations under the License.\n",
       " */\n",
       "\n",
       "/**\n",
       " *  Plotting of decision trees generated by TF-DF.\n",
       " *\n",
       " *  A tree is a recursive structure of node objects.\n",
       " *  A node contains one or more of the following components:\n",
       " *\n",
       " *    - A value: Representing the output of the node. If the node is not a leaf,\n",
       " *      the value is only present for analysis i.e. it is not used for\n",
       " *      predictions.\n",
       " *\n",
       " *    - A condition : For non-leaf nodes, the condition (also known as split)\n",
       " *      defines a binary test to branch to the positive or negative child.\n",
       " *\n",
       " *    - An explanation: Generally a plot showing the relation between the label\n",
       " *      and the condition to give insights about the effect of the condition.\n",
       " *\n",
       " *    - Two children : For non-leaf nodes, the children nodes. The first\n",
       " *      children (i.e. \"node.children[0]\") is the negative children (drawn in\n",
       " *      red). The second children is the positive one (drawn in green).\n",
       " *\n",
       " */\n",
       "\n",
       "/**\n",
       " * Plots a single decision tree into a DOM element.\n",
       " * @param {!options} options Dictionary of configurations.\n",
       " * @param {!tree} raw_tree Recursive tree structure.\n",
       " * @param {string} canvas_id Id of the output dom element.\n",
       " */\n",
       "function display_tree(options, raw_tree, canvas_id) {\n",
       "  console.log(options);\n",
       "\n",
       "  // Determine the node placement.\n",
       "  const tree_struct = d3.tree().nodeSize(\n",
       "      [options.node_y_offset, options.node_x_offset])(d3.hierarchy(raw_tree));\n",
       "\n",
       "  // Boundaries of the node placement.\n",
       "  let x_min = Infinity;\n",
       "  let x_max = -x_min;\n",
       "  let y_min = Infinity;\n",
       "  let y_max = -x_min;\n",
       "\n",
       "  tree_struct.each(d => {\n",
       "    if (d.x > x_max) x_max = d.x;\n",
       "    if (d.x < x_min) x_min = d.x;\n",
       "    if (d.y > y_max) y_max = d.y;\n",
       "    if (d.y < y_min) y_min = d.y;\n",
       "  });\n",
       "\n",
       "  // Size of the plot.\n",
       "  const width = y_max - y_min + options.node_x_size + options.margin * 2;\n",
       "  const height = x_max - x_min + options.node_y_size + options.margin * 2 +\n",
       "      options.node_y_offset - options.node_y_size;\n",
       "\n",
       "  const plot = d3.select(canvas_id);\n",
       "\n",
       "  // Tool tip\n",
       "  options.tooltip = plot.append('div')\n",
       "                        .attr('width', 100)\n",
       "                        .attr('height', 100)\n",
       "                        .style('padding', '4px')\n",
       "                        .style('background', '#fff')\n",
       "                        .style('box-shadow', '4px 4px 0px rgba(0,0,0,0.1)')\n",
       "                        .style('border', '1px solid black')\n",
       "                        .style('font-family', 'sans-serif')\n",
       "                        .style('font-size', options.font_size)\n",
       "                        .style('position', 'absolute')\n",
       "                        .style('z-index', '10')\n",
       "                        .attr('pointer-events', 'none')\n",
       "                        .style('display', 'none');\n",
       "\n",
       "  // Create canvas\n",
       "  const svg = plot.append('svg').attr('width', width).attr('height', height);\n",
       "  const graph =\n",
       "      svg.style('overflow', 'visible')\n",
       "          .append('g')\n",
       "          .attr('font-family', 'sans-serif')\n",
       "          .attr('font-size', options.font_size)\n",
       "          .attr(\n",
       "              'transform',\n",
       "              () => `translate(${options.margin},${\n",
       "                  - x_min + options.node_y_offset / 2 + options.margin})`);\n",
       "\n",
       "  // Plot bounding box.\n",
       "  if (options.show_plot_bounding_box) {\n",
       "    svg.append('rect')\n",
       "        .attr('width', width)\n",
       "        .attr('height', height)\n",
       "        .attr('fill', 'none')\n",
       "        .attr('stroke-width', 1.0)\n",
       "        .attr('stroke', 'black');\n",
       "  }\n",
       "\n",
       "  // Draw the edges.\n",
       "  display_edges(options, graph, tree_struct);\n",
       "\n",
       "  // Draw the nodes.\n",
       "  display_nodes(options, graph, tree_struct);\n",
       "}\n",
       "\n",
       "/**\n",
       " * Draw the nodes of the tree.\n",
       " * @param {!options} options Dictionary of configurations.\n",
       " * @param {!graph} graph D3 search handle containing the graph.\n",
       " * @param {!tree_struct} tree_struct Structure of the tree (node placement,\n",
       " *     data, etc.).\n",
       " */\n",
       "function display_nodes(options, graph, tree_struct) {\n",
       "  const nodes = graph.append('g')\n",
       "                    .selectAll('g')\n",
       "                    .data(tree_struct.descendants())\n",
       "                    .join('g')\n",
       "                    .attr('transform', d => `translate(${d.y},${d.x})`);\n",
       "\n",
       "  nodes.append('rect')\n",
       "      .attr('x', 0.5)\n",
       "      .attr('y', 0.5)\n",
       "      .attr('width', options.node_x_size)\n",
       "      .attr('height', options.node_y_size)\n",
       "      .attr('stroke', 'lightgrey')\n",
       "      .attr('stroke-width', 1)\n",
       "      .attr('fill', 'white')\n",
       "      .attr('y', -options.node_y_size / 2);\n",
       "\n",
       "  // Brackets on the right of condition nodes without children.\n",
       "  non_leaf_node_without_children =\n",
       "      nodes.filter(node => node.data.condition != null && node.children == null)\n",
       "          .append('g')\n",
       "          .attr('transform', `translate(${options.node_x_size},0)`);\n",
       "\n",
       "  non_leaf_node_without_children.append('path')\n",
       "      .attr('d', 'M0,0 C 10,0 0,10 10,10')\n",
       "      .attr('fill', 'none')\n",
       "      .attr('stroke-width', 1.0)\n",
       "      .attr('stroke', '#F00');\n",
       "\n",
       "  non_leaf_node_without_children.append('path')\n",
       "      .attr('d', 'M0,0 C 10,0 0,-10 10,-10')\n",
       "      .attr('fill', 'none')\n",
       "      .attr('stroke-width', 1.0)\n",
       "      .attr('stroke', '#0F0');\n",
       "\n",
       "  const node_content = nodes.append('g').attr(\n",
       "      'transform',\n",
       "      `translate(0,${options.node_padding - options.node_y_size / 2})`);\n",
       "\n",
       "  node_content.append(node => create_node_element(options, node));\n",
       "}\n",
       "\n",
       "/**\n",
       " * Creates the D3 content for a single node.\n",
       " * @param {!options} options Dictionary of configurations.\n",
       " * @param {!node} node Node to draw.\n",
       " * @return {!d3} D3 content.\n",
       " */\n",
       "function create_node_element(options, node) {\n",
       "  // Output accumulator.\n",
       "  let output = {\n",
       "    // Content to draw.\n",
       "    content: d3.create('svg:g'),\n",
       "    // Vertical offset to the next element to draw.\n",
       "    vertical_offset: 0\n",
       "  };\n",
       "\n",
       "  // Conditions.\n",
       "  if (node.data.condition != null) {\n",
       "    display_condition(options, node.data.condition, output);\n",
       "  }\n",
       "\n",
       "  // Values.\n",
       "  if (node.data.value != null) {\n",
       "    display_value(options, node.data.value, output);\n",
       "  }\n",
       "\n",
       "  // Explanations.\n",
       "  if (node.data.explanation != null) {\n",
       "    display_explanation(options, node.data.explanation, output);\n",
       "  }\n",
       "\n",
       "  return output.content.node();\n",
       "}\n",
       "\n",
       "\n",
       "/**\n",
       " * Adds a single line of text inside of a node.\n",
       " * @param {!options} options Dictionary of configurations.\n",
       " * @param {string} text Text to display.\n",
       " * @param {!output} output Output display accumulator.\n",
       " */\n",
       "function display_node_text(options, text, output) {\n",
       "  output.content.append('text')\n",
       "      .attr('x', options.node_padding)\n",
       "      .attr('y', output.vertical_offset)\n",
       "      .attr('alignment-baseline', 'hanging')\n",
       "      .text(text);\n",
       "  output.vertical_offset += 10;\n",
       "}\n",
       "\n",
       "/**\n",
       " * Adds a single line of text inside of a node with a tooltip.\n",
       " * @param {!options} options Dictionary of configurations.\n",
       " * @param {string} text Text to display.\n",
       " * @param {string} tooltip Text in the Tooltip.\n",
       " * @param {!output} output Output display accumulator.\n",
       " */\n",
       "function display_node_text_with_tooltip(options, text, tooltip, output) {\n",
       "  const item = output.content.append('text')\n",
       "                   .attr('x', options.node_padding)\n",
       "                   .attr('alignment-baseline', 'hanging')\n",
       "                   .text(text);\n",
       "\n",
       "  add_tooltip(options, item, () => tooltip);\n",
       "  output.vertical_offset += 10;\n",
       "}\n",
       "\n",
       "/**\n",
       " * Adds a tooltip to a dom element.\n",
       " * @param {!options} options Dictionary of configurations.\n",
       " * @param {!dom} target Dom element to equip with a tooltip.\n",
       " * @param {!func} get_content Generates the html content of the tooltip.\n",
       " */\n",
       "function add_tooltip(options, target, get_content) {\n",
       "  function show(d) {\n",
       "    options.tooltip.style('display', 'block');\n",
       "    options.tooltip.html(get_content());\n",
       "  }\n",
       "\n",
       "  function hide(d) {\n",
       "    options.tooltip.style('display', 'none');\n",
       "  }\n",
       "\n",
       "  function move(d) {\n",
       "    options.tooltip.style('display', 'block');\n",
       "    options.tooltip.style('left', (d.pageX + 5) + 'px');\n",
       "    options.tooltip.style('top', d.pageY + 'px');\n",
       "  }\n",
       "\n",
       "  target.on('mouseover', show);\n",
       "  target.on('mouseout', hide);\n",
       "  target.on('mousemove', move);\n",
       "}\n",
       "\n",
       "/**\n",
       " * Adds a condition inside of a node.\n",
       " * @param {!options} options Dictionary of configurations.\n",
       " * @param {!condition} condition Condition to display.\n",
       " * @param {!output} output Output display accumulator.\n",
       " */\n",
       "function display_condition(options, condition, output) {\n",
       "  threshold_format = d3.format('r');\n",
       "\n",
       "  if (condition.type === 'IS_MISSING') {\n",
       "    display_node_text(options, `${condition.attribute} is missing`, output);\n",
       "    return;\n",
       "  }\n",
       "\n",
       "  if (condition.type === 'IS_TRUE') {\n",
       "    display_node_text(options, `${condition.attribute} is true`, output);\n",
       "    return;\n",
       "  }\n",
       "\n",
       "  if (condition.type === 'NUMERICAL_IS_HIGHER_THAN') {\n",
       "    format = d3.format('r');\n",
       "    display_node_text(\n",
       "        options,\n",
       "        `${condition.attribute} >= ${threshold_format(condition.threshold)}`,\n",
       "        output);\n",
       "    return;\n",
       "  }\n",
       "\n",
       "  if (condition.type === 'CATEGORICAL_IS_IN') {\n",
       "    display_node_text_with_tooltip(\n",
       "        options, `${condition.attribute} in [...]`,\n",
       "        `${condition.attribute} in [${condition.mask}]`, output);\n",
       "    return;\n",
       "  }\n",
       "\n",
       "  if (condition.type === 'CATEGORICAL_SET_CONTAINS') {\n",
       "    display_node_text_with_tooltip(\n",
       "        options, `${condition.attribute} intersect [...]`,\n",
       "        `${condition.attribute} intersect [${condition.mask}]`, output);\n",
       "    return;\n",
       "  }\n",
       "\n",
       "  if (condition.type === 'NUMERICAL_SPARSE_OBLIQUE') {\n",
       "    display_node_text_with_tooltip(\n",
       "        options, `Sparse oblique split...`,\n",
       "        `[${condition.attributes}]*[${condition.weights}]>=${\n",
       "            threshold_format(condition.threshold)}`,\n",
       "        output);\n",
       "    return;\n",
       "  }\n",
       "\n",
       "  display_node_text(\n",
       "      options, `Non supported condition ${condition.type}`, output);\n",
       "}\n",
       "\n",
       "/**\n",
       " * Adds a value inside of a node.\n",
       " * @param {!options} options Dictionary of configurations.\n",
       " * @param {!value} value Value to display.\n",
       " * @param {!output} output Output display accumulator.\n",
       " */\n",
       "function display_value(options, value, output) {\n",
       "  if (value.type === 'PROBABILITY') {\n",
       "    const left_margin = 0;\n",
       "    const right_margin = 50;\n",
       "    const plot_width = options.node_x_size - options.node_padding * 2 -\n",
       "        left_margin - right_margin;\n",
       "\n",
       "    let cusum = Array.from(d3.cumsum(value.distribution));\n",
       "    cusum.unshift(0);\n",
       "    const distribution_plot = output.content.append('g').attr(\n",
       "        'transform', `translate(0,${output.vertical_offset + 0.5})`);\n",
       "\n",
       "    distribution_plot.selectAll('rect')\n",
       "        .data(value.distribution)\n",
       "        .join('rect')\n",
       "        .attr('height', 10)\n",
       "        .attr(\n",
       "            'x',\n",
       "            (d, i) =>\n",
       "                (cusum[i] * plot_width + left_margin + options.node_padding))\n",
       "        .attr('width', (d, i) => d * plot_width)\n",
       "        .style('fill', (d, i) => d3.schemeSet1[i]);\n",
       "\n",
       "    const num_examples =\n",
       "        output.content.append('g')\n",
       "            .attr('transform', `translate(0,${output.vertical_offset})`)\n",
       "            .append('text')\n",
       "            .attr('x', options.node_x_size - options.node_padding)\n",
       "            .attr('alignment-baseline', 'hanging')\n",
       "            .attr('text-anchor', 'end')\n",
       "            .text(`(${value.num_examples})`);\n",
       "\n",
       "    const distribution_details = d3.create('ul');\n",
       "    distribution_details.selectAll('li')\n",
       "        .data(value.distribution)\n",
       "        .join('li')\n",
       "        .append('span')\n",
       "        .text(\n",
       "            (d, i) =>\n",
       "                'class ' + i + ': ' + d3.format('.3%')(value.distribution[i]));\n",
       "\n",
       "    add_tooltip(options, distribution_plot, () => distribution_details.html());\n",
       "    add_tooltip(options, num_examples, () => 'Number of examples');\n",
       "\n",
       "    output.vertical_offset += 10;\n",
       "    return;\n",
       "  }\n",
       "\n",
       "  if (value.type === 'REGRESSION') {\n",
       "    display_node_text(\n",
       "        options,\n",
       "        'value: ' + d3.format('r')(value.value) + ` (` +\n",
       "            d3.format('.6')(value.num_examples) + `)`,\n",
       "        output);\n",
       "    return;\n",
       "  }\n",
       "\n",
       "  display_node_text(options, `Non supported value ${value.type}`, output);\n",
       "}\n",
       "\n",
       "/**\n",
       " * Adds an explanation inside of a node.\n",
       " * @param {!options} options Dictionary of configurations.\n",
       " * @param {!explanation} explanation Explanation to display.\n",
       " * @param {!output} output Output display accumulator.\n",
       " */\n",
       "function display_explanation(options, explanation, output) {\n",
       "  // Margin before the explanation.\n",
       "  output.vertical_offset += 10;\n",
       "\n",
       "  display_node_text(\n",
       "      options, `Non supported explanation ${explanation.type}`, output);\n",
       "}\n",
       "\n",
       "\n",
       "/**\n",
       " * Draw the edges of the tree.\n",
       " * @param {!options} options Dictionary of configurations.\n",
       " * @param {!graph} graph D3 search handle containing the graph.\n",
       " * @param {!tree_struct} tree_struct Structure of the tree (node placement,\n",
       " *     data, etc.).\n",
       " */\n",
       "function display_edges(options, graph, tree_struct) {\n",
       "  // Draw an edge between a parent and a child node with a bezier.\n",
       "  function draw_single_edge(d) {\n",
       "    return 'M' + (d.source.y + options.node_x_size) + ',' + d.source.x + ' C' +\n",
       "        (d.source.y + options.node_x_size + options.edge_rounding) + ',' +\n",
       "        d.source.x + ' ' + (d.target.y - options.edge_rounding) + ',' +\n",
       "        d.target.x + ' ' + d.target.y + ',' + d.target.x;\n",
       "  }\n",
       "\n",
       "  graph.append('g')\n",
       "      .attr('fill', 'none')\n",
       "      .attr('stroke-width', 1.2)\n",
       "      .selectAll('path')\n",
       "      .data(tree_struct.links())\n",
       "      .join('path')\n",
       "      .attr('d', draw_single_edge)\n",
       "      .attr(\n",
       "          'stroke', d => (d.target === d.source.children[0]) ? '#0F0' : '#F00');\n",
       "}\n",
       "\n",
       "display_tree({\"margin\": 10, \"node_x_size\": 160, \"node_y_size\": 28, \"node_x_offset\": 180, \"node_y_offset\": 33, \"font_size\": 10, \"edge_rounding\": 20, \"node_padding\": 2, \"show_plot_bounding_box\": false}, {\"value\": {\"type\": \"PROBABILITY\", \"distribution\": [0.273277096928219, 0.726722903071781], \"num_examples\": 18849.0}, \"condition\": {\"type\": \"NUMERICAL_IS_HIGHER_THAN\", \"attribute\": \"elapsed_time\", \"threshold\": 141758.40625}, \"children\": [{\"value\": {\"type\": \"PROBABILITY\", \"distribution\": [0.3367952522255193, 0.6632047477744807], \"num_examples\": 6740.0}, \"condition\": {\"type\": \"NUMERICAL_IS_HIGHER_THAN\", \"attribute\": \"level\", \"threshold\": 1.9437716007232666}, \"children\": [{\"value\": {\"type\": \"PROBABILITY\", \"distribution\": [0.37646459500764134, 0.6235354049923586], \"num_examples\": 3926.0}, \"condition\": {\"type\": \"NUMERICAL_IS_HIGHER_THAN\", \"attribute\": \"page\", \"threshold\": -0.5}, \"children\": [{\"value\": {\"type\": \"PROBABILITY\", \"distribution\": [0.4040504648074369, 0.5959495351925631], \"num_examples\": 3012.0}, \"condition\": {\"type\": \"NUMERICAL_IS_HIGHER_THAN\", \"attribute\": \"elapsed_time\", \"threshold\": 186773.34375}}, {\"value\": {\"type\": \"PROBABILITY\", \"distribution\": [0.2855579868708972, 0.7144420131291028], \"num_examples\": 914.0}, \"condition\": {\"type\": \"NUMERICAL_IS_HIGHER_THAN\", \"attribute\": \"elapsed_time\", \"threshold\": 144212.6875}}]}, {\"value\": {\"type\": \"PROBABILITY\", \"distribution\": [0.2814498933901919, 0.7185501066098081], \"num_examples\": 2814.0}, \"condition\": {\"type\": \"NUMERICAL_IS_HIGHER_THAN\", \"attribute\": \"elapsed_time_std\", \"threshold\": 1514334.0}, \"children\": [{\"value\": {\"type\": \"PROBABILITY\", \"distribution\": [0.4339622641509434, 0.5660377358490566], \"num_examples\": 159.0}, \"condition\": {\"type\": \"NUMERICAL_IS_HIGHER_THAN\", \"attribute\": \"room_coor_y\", \"threshold\": -9.979406356811523}}, {\"value\": {\"type\": \"PROBABILITY\", \"distribution\": [0.27231638418079096, 0.727683615819209], \"num_examples\": 2655.0}, \"condition\": {\"type\": \"NUMERICAL_IS_HIGHER_THAN\", \"attribute\": \"page\", \"threshold\": 0.5584415793418884}}]}]}, {\"value\": {\"type\": \"PROBABILITY\", \"distribution\": [0.23792220662317284, 0.7620777933768271], \"num_examples\": 12109.0}, \"condition\": {\"type\": \"NUMERICAL_IS_HIGHER_THAN\", \"attribute\": \"name_nunique\", \"threshold\": 3.5}, \"children\": [{\"value\": {\"type\": \"PROBABILITY\", \"distribution\": [0.2703935146090187, 0.7296064853909813], \"num_examples\": 5921.0}, \"condition\": {\"type\": \"NUMERICAL_IS_HIGHER_THAN\", \"attribute\": \"screen_coor_x_std\", \"threshold\": 228.3046875}, \"children\": [{\"value\": {\"type\": \"PROBABILITY\", \"distribution\": [0.25443786982248523, 0.7455621301775148], \"num_examples\": 4901.0}, \"condition\": {\"type\": \"NUMERICAL_IS_HIGHER_THAN\", \"attribute\": \"level_std\", \"threshold\": 1.2699002027511597}}, {\"value\": {\"type\": \"PROBABILITY\", \"distribution\": [0.34705882352941175, 0.6529411764705882], \"num_examples\": 1020.0}, \"condition\": {\"type\": \"NUMERICAL_IS_HIGHER_THAN\", \"attribute\": \"screen_coor_x_std\", \"threshold\": 191.88262939453125}}]}, {\"value\": {\"type\": \"PROBABILITY\", \"distribution\": [0.2068519715578539, 0.793148028442146], \"num_examples\": 6188.0}, \"condition\": {\"type\": \"NUMERICAL_IS_HIGHER_THAN\", \"attribute\": \"screen_coor_x_std\", \"threshold\": 286.8587646484375}, \"children\": [{\"value\": {\"type\": \"PROBABILITY\", \"distribution\": [0.14138438880706922, 0.8586156111929307], \"num_examples\": 679.0}, \"condition\": {\"type\": \"NUMERICAL_IS_HIGHER_THAN\", \"attribute\": \"level_std\", \"threshold\": 1.1878011226654053}}, {\"value\": {\"type\": \"PROBABILITY\", \"distribution\": [0.21492103830096207, 0.7850789616990379], \"num_examples\": 5509.0}, \"condition\": {\"type\": \"NUMERICAL_IS_HIGHER_THAN\", \"attribute\": \"elapsed_time_std\", \"threshold\": 41376.59375}}]}]}]}, \"#tree_plot_d0337cf4eb1e459e85fb6f56e3152e99\")\n",
       "</script>\n"
      ],
      "text/plain": [
       "<IPython.core.display.HTML object>"
      ]
     },
     "execution_count": 14,
     "metadata": {},
     "output_type": "execute_result"
    }
   ],
   "source": [
    "tfdf.model_plotter.plot_model_in_colab(models['0-4_1'], tree_idx=0, max_depth=3)"
   ]
  },
  {
   "cell_type": "code",
   "execution_count": 15,
   "id": "f99ff841",
   "metadata": {
    "execution": {
     "iopub.execute_input": "2023-06-23T13:46:10.128521Z",
     "iopub.status.busy": "2023-06-23T13:46:10.127728Z",
     "iopub.status.idle": "2023-06-23T13:46:10.140578Z",
     "shell.execute_reply": "2023-06-23T13:46:10.139700Z"
    },
    "papermill": {
     "duration": 0.065659,
     "end_time": "2023-06-23T13:46:10.142635",
     "exception": false,
     "start_time": "2023-06-23T13:46:10.076976",
     "status": "completed"
    },
    "tags": []
   },
   "outputs": [
    {
     "name": "stdout",
     "output_type": "stream",
     "text": [
      "Available variable importances:\n",
      "\t NUM_AS_ROOT\n",
      "\t SUM_SCORE\n",
      "\t INV_MEAN_MIN_DEPTH\n",
      "\t NUM_NODES\n"
     ]
    },
    {
     "data": {
      "text/plain": [
       "[(\"room_fqid_nunique\" (1; #16), 245.0),\n",
       " (\"name_nunique\" (1; #9), 167.0),\n",
       " (\"page\" (1; #10), 165.0),\n",
       " (\"page_std\" (1; #11), 156.0),\n",
       " (\"elapsed_time\" (1; #1), 92.0),\n",
       " (\"elapsed_time_std\" (1; #2), 62.0),\n",
       " (\"event_name_nunique\" (1; #3), 51.0),\n",
       " (\"level\" (1; #7), 25.0),\n",
       " (\"text_fqid_nunique\" (1; #21), 18.0),\n",
       " (\"screen_coor_y_std\" (1; #20), 7.0),\n",
       " (\"fqid_nunique\" (1; #4), 6.0),\n",
       " (\"level_std\" (1; #8), 5.0),\n",
       " (\"room_coor_y_std\" (1; #15), 1.0)]"
      ]
     },
     "execution_count": 15,
     "metadata": {},
     "output_type": "execute_result"
    }
   ],
   "source": [
    "inspector = models['0-4_1'].make_inspector()\n",
    "\n",
    "print(f\"Available variable importances:\")\n",
    "for importance in inspector.variable_importances().keys():\n",
    "  print(\"\\t\", importance)\n",
    "\n",
    "# Each line is: (feature name, (index of the feature), importance score)\n",
    "inspector.variable_importances()[\"NUM_AS_ROOT\"]"
   ]
  },
  {
   "cell_type": "markdown",
   "id": "f37a0bec",
   "metadata": {
    "papermill": {
     "duration": 0.048565,
     "end_time": "2023-06-23T13:46:10.239846",
     "exception": false,
     "start_time": "2023-06-23T13:46:10.191281",
     "status": "completed"
    },
    "tags": []
   },
   "source": [
    "# Menentukan Threshold"
   ]
  },
  {
   "cell_type": "markdown",
   "id": "5e901f22",
   "metadata": {
    "papermill": {
     "duration": 0.048039,
     "end_time": "2023-06-23T13:46:10.336342",
     "exception": false,
     "start_time": "2023-06-23T13:46:10.288303",
     "status": "completed"
    },
    "tags": []
   },
   "source": [
    "Mencari nilai ambang (threshold) terbaik yang menghasilkan skor F1 (F1 score) tertinggi. Program ini menggunakan serangkaian nilai ambang yang berbeda dan menghitung skor F1 menggunakan metrik F1Score dari TensorFlow Addons (tfa.metrics.F1Score) dengan variasi nilai ambang tersebut."
   ]
  },
  {
   "cell_type": "code",
   "execution_count": 16,
   "id": "5d009aa4",
   "metadata": {
    "execution": {
     "iopub.execute_input": "2023-06-23T13:46:10.435829Z",
     "iopub.status.busy": "2023-06-23T13:46:10.435009Z",
     "iopub.status.idle": "2023-06-23T13:46:11.727661Z",
     "shell.execute_reply": "2023-06-23T13:46:11.726809Z"
    },
    "papermill": {
     "duration": 1.345333,
     "end_time": "2023-06-23T13:46:11.729933",
     "exception": false,
     "start_time": "2023-06-23T13:46:10.384600",
     "status": "completed"
    },
    "tags": []
   },
   "outputs": [
    {
     "name": "stdout",
     "output_type": "stream",
     "text": [
      "Best threshold  0.7900000000000004 \tF1 score  0.6637545\n"
     ]
    }
   ],
   "source": [
    "# Create a dataframe of required size:\n",
    "# (no: of users in validation set x no: of questions) initialized to zero values\n",
    "# to store true values of the label `correct`. \n",
    "true_df = pd.DataFrame(data=np.zeros((len(VALID_USER_LIST),18)), index=VALID_USER_LIST)\n",
    "for i in range(18):\n",
    "    # Get the true labels.\n",
    "    tmp = label.loc[label.q == i+1].set_index('session').loc[VALID_USER_LIST]\n",
    "    true_df[i] = tmp.correct.values\n",
    "\n",
    "max_score = 0; best_threshold = 0\n",
    "\n",
    "# Loop through threshold values from 0.4 to 0.8 and select the threshold with \n",
    "# the highest `F1 score`.\n",
    "for threshold in np.arange(0.4,0.8,0.01):\n",
    "    metric = tfa.metrics.F1Score(num_classes=2,average=\"macro\",threshold=threshold)\n",
    "    y_true = tf.one_hot(true_df.values.reshape((-1)), depth=2)\n",
    "    y_pred = tf.one_hot((prediction_df.values.reshape((-1))>threshold).astype('int'), depth=2)\n",
    "    metric.update_state(y_true, y_pred)\n",
    "    f1_score = metric.result().numpy()\n",
    "    if f1_score > max_score:\n",
    "        max_score = f1_score\n",
    "        best_threshold = threshold\n",
    "        \n",
    "print(\"Best threshold \", best_threshold, \"\\tF1 score \", max_score)"
   ]
  },
  {
   "cell_type": "code",
   "execution_count": 17,
   "id": "5733bdce",
   "metadata": {
    "execution": {
     "iopub.execute_input": "2023-06-23T13:46:11.829183Z",
     "iopub.status.busy": "2023-06-23T13:46:11.828387Z",
     "iopub.status.idle": "2023-06-23T13:46:12.841252Z",
     "shell.execute_reply": "2023-06-23T13:46:12.840419Z"
    },
    "papermill": {
     "duration": 1.065078,
     "end_time": "2023-06-23T13:46:12.843588",
     "exception": false,
     "start_time": "2023-06-23T13:46:11.778510",
     "status": "completed"
    },
    "tags": []
   },
   "outputs": [
    {
     "data": {
      "image/png": "[encoded data removed]",
      "text/plain": [
       "<Figure size 640x480 with 1 Axes>"
      ]
     },
     "metadata": {},
     "output_type": "display_data"
    }
   ],
   "source": [
    "thresholds = np.arange(0.4, 0.8, 0.01)\n",
    "f1_scores = []\n",
    "\n",
    "for threshold in thresholds:\n",
    "    metric = tfa.metrics.F1Score(num_classes=2, average=\"macro\", threshold=threshold)\n",
    "    y_true = tf.one_hot(true_df.values.reshape((-1)), depth=2)\n",
    "    y_pred = tf.one_hot((prediction_df.values.reshape((-1)) > threshold).astype('int'), depth=2)\n",
    "    metric.update_state(y_true, y_pred)\n",
    "    f1_score = metric.result().numpy()\n",
    "    f1_scores.append(f1_score)\n",
    "\n",
    "# Plot the threshold vs F1 score\n",
    "plt.plot(thresholds, f1_scores)\n",
    "plt.xlabel(\"Threshold\")\n",
    "plt.ylabel(\"F1 Score\")\n",
    "plt.title(\"Threshold vs F1 Score\")\n",
    "plt.grid(True)\n",
    "plt.show()"
   ]
  },
  {
   "cell_type": "markdown",
   "id": "a3aaf57c",
   "metadata": {
    "papermill": {
     "duration": 0.049263,
     "end_time": "2023-06-23T13:46:12.942309",
     "exception": false,
     "start_time": "2023-06-23T13:46:12.893046",
     "status": "completed"
    },
    "tags": []
   },
   "source": [
    "# Submission"
   ]
  },
  {
   "cell_type": "code",
   "execution_count": 18,
   "id": "531d58aa",
   "metadata": {
    "execution": {
     "iopub.execute_input": "2023-06-23T13:46:13.045046Z",
     "iopub.status.busy": "2023-06-23T13:46:13.044297Z",
     "iopub.status.idle": "2023-06-23T13:46:19.201398Z",
     "shell.execute_reply": "2023-06-23T13:46:19.200170Z"
    },
    "papermill": {
     "duration": 6.213406,
     "end_time": "2023-06-23T13:46:19.205497",
     "exception": false,
     "start_time": "2023-06-23T13:46:12.992091",
     "status": "completed"
    },
    "tags": []
   },
   "outputs": [
    {
     "name": "stdout",
     "output_type": "stream",
     "text": [
      "This version of the API is not optimized and should not be used to estimate the runtime of your code on the hidden test set.\n",
      "1/1 [==============================] - 0s 78ms/step\n",
      "1/1 [==============================] - 0s 88ms/step\n",
      "1/1 [==============================] - 0s 76ms/step\n",
      "1/1 [==============================] - 0s 75ms/step\n",
      "1/1 [==============================] - 0s 79ms/step\n",
      "1/1 [==============================] - 0s 77ms/step\n",
      "1/1 [==============================] - 0s 73ms/step\n",
      "1/1 [==============================] - 0s 77ms/step\n",
      "1/1 [==============================] - 0s 74ms/step\n",
      "1/1 [==============================] - 0s 73ms/step\n",
      "1/1 [==============================] - 0s 90ms/step\n",
      "1/1 [==============================] - 0s 74ms/step\n",
      "1/1 [==============================] - 0s 72ms/step\n",
      "1/1 [==============================] - 0s 77ms/step\n",
      "1/1 [==============================] - 0s 74ms/step\n",
      "1/1 [==============================] - 0s 95ms/step\n",
      "1/1 [==============================] - 0s 81ms/step\n",
      "1/1 [==============================] - 0s 75ms/step\n",
      "1/1 [==============================] - 0s 93ms/step\n",
      "1/1 [==============================] - 0s 76ms/step\n",
      "1/1 [==============================] - 0s 79ms/step\n",
      "1/1 [==============================] - 0s 77ms/step\n",
      "1/1 [==============================] - 0s 85ms/step\n",
      "1/1 [==============================] - 0s 77ms/step\n",
      "1/1 [==============================] - 0s 78ms/step\n",
      "1/1 [==============================] - 0s 77ms/step\n",
      "1/1 [==============================] - 0s 75ms/step\n",
      "1/1 [==============================] - 0s 72ms/step\n",
      "1/1 [==============================] - 0s 74ms/step\n",
      "1/1 [==============================] - 0s 75ms/step\n",
      "1/1 [==============================] - 0s 73ms/step\n",
      "1/1 [==============================] - 0s 77ms/step\n",
      "1/1 [==============================] - 0s 76ms/step\n",
      "1/1 [==============================] - 0s 80ms/step\n",
      "1/1 [==============================] - 0s 75ms/step\n",
      "1/1 [==============================] - 0s 74ms/step\n",
      "1/1 [==============================] - 0s 78ms/step\n",
      "1/1 [==============================] - 0s 77ms/step\n",
      "1/1 [==============================] - 0s 79ms/step\n",
      "1/1 [==============================] - 0s 79ms/step\n",
      "1/1 [==============================] - 0s 76ms/step\n",
      "1/1 [==============================] - 0s 74ms/step\n",
      "1/1 [==============================] - 0s 77ms/step\n",
      "1/1 [==============================] - 0s 74ms/step\n",
      "1/1 [==============================] - 0s 77ms/step\n",
      "1/1 [==============================] - 0s 77ms/step\n",
      "1/1 [==============================] - 0s 77ms/step\n",
      "1/1 [==============================] - 0s 79ms/step\n",
      "1/1 [==============================] - 0s 77ms/step\n",
      "1/1 [==============================] - 0s 77ms/step\n",
      "1/1 [==============================] - 0s 75ms/step\n",
      "1/1 [==============================] - 0s 75ms/step\n",
      "1/1 [==============================] - 0s 75ms/step\n",
      "1/1 [==============================] - 0s 75ms/step\n"
     ]
    }
   ],
   "source": [
    "# Reference\n",
    "# https://www.kaggle.com/code/philculliton/basic-submission-demo\n",
    "# https://www.kaggle.com/code/cdeotte/random-forest-baseline-0-664/notebook\n",
    "\n",
    "\n",
    "import jo_wilder_310\n",
    "env = jo_wilder_310.make_env()\n",
    "iter_test = env.iter_test()\n",
    "\n",
    "limits = {'0-4':(1,4), '5-12':(4,14), '13-22':(14,19)}\n",
    "\n",
    "for (test, sample_submission) in iter_test:\n",
    "    test_df = feature_engineer(test)\n",
    "    grp = test_df.level_group.values[0]\n",
    "    a,b = limits[grp]\n",
    "    for t in range(a,b):\n",
    "        rfm = models[f'{grp}_{t}']\n",
    "        test_ds = tfdf.keras.pd_dataframe_to_tf_dataset(test_df.loc[:, test_df.columns != 'level_group'])\n",
    "        predictions = rfm.predict(test_ds)\n",
    "        mask = sample_submission.session_id.str.contains(f'q{t}')\n",
    "        n_predictions = (predictions > best_threshold).astype(int)\n",
    "        sample_submission.loc[mask,'correct'] = n_predictions.flatten()\n",
    "    \n",
    "    env.predict(sample_submission)"
   ]
  }
 ],
 "metadata": {
  "kernelspec": {
   "display_name": "Python 3",
   "language": "python",
   "name": "python3"
  },
  "language_info": {
   "codemirror_mode": {
    "name": "ipython",
    "version": 3
   },
   "file_extension": ".py",
   "mimetype": "text/x-python",
   "name": "python",
   "nbconvert_exporter": "python",
   "pygments_lexer": "ipython3",
   "version": "3.10.10"
  },
  "papermill": {
   "default_parameters": {},
   "duration": 912.234164,
   "end_time": "2023-06-23T13:46:22.118092",
   "environment_variables": {},
   "exception": null,
   "input_path": "__notebook__.ipynb",
   "output_path": "__notebook__.ipynb",
   "parameters": {},
   "start_time": "2023-06-23T13:31:09.883928",
   "version": "2.4.0"
  }
 },
 "nbformat": 4,
 "nbformat_minor": 5
}
